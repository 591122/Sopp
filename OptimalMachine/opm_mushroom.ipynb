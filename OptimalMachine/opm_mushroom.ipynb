{
 "cells": [
  {
   "cell_type": "markdown",
   "id": "5e3762f4-0a64-4d7f-a12e-03b9bc779de7",
   "metadata": {},
   "source": [
    "# Optimal Predictor Machine used with Mushroom.csv"
   ]
  },
  {
   "cell_type": "markdown",
   "id": "62ac76e9-b3e0-43de-9c65-b99ff7b7b01e",
   "metadata": {},
   "source": [
    "Load required libraries and functions"
   ]
  },
  {
   "cell_type": "code",
   "execution_count": 1,
   "id": "f6490345-1334-4c63-955b-c634d0a80a6e",
   "metadata": {
    "vscode": {
     "languageId": "r"
    }
   },
   "outputs": [
    {
     "name": "stderr",
     "output_type": "stream",
     "text": [
      "Warning message in match.arg(palette, names(.schemes), several.ok = FALSE):\n",
      "\"strings not representable in native encoding will be translated to UTF-8\"\n"
     ]
    }
   ],
   "source": [
    "library('data.table')\n",
    "library('extraDistr')\n",
    "library('foreach')\n",
    "library('png')\n",
    "source('tplotfunctions.R')\n",
    "source('guessmetadata.R')\n",
    "source('buildagent.R')\n",
    "source('infer.R')\n",
    "source('decide.R')\n",
    "source('mutualinfo.R')\n",
    "source('rF.R')\n",
    "source('plotFsamples1D.R')\n",
    "library(reticulate)\n",
    "options(repr.plot.width=10*sqrt(2), repr.plot.height=10)"
   ]
  },
  {
   "cell_type": "markdown",
   "id": "063ef988-57cd-4e25-aa37-a42e27627cab",
   "metadata": {},
   "source": [
    "## Changing the csv file to fit with optimal machine\n",
    "Here som changes are done to make sure that the optimal machine will run with the dataset. This includes limmiting the amount of data, as well as limmiting variates.\n",
    "The code bellow includes the most variates possible.\n",
    "Further cuts will be made later.\n"
   ]
  },
  {
   "cell_type": "code",
   "execution_count": 2,
   "metadata": {
    "vscode": {
     "languageId": "r"
    }
   },
   "outputs": [
    {
     "name": "stdout",
     "output_type": "stream",
     "text": [
      "                class              capShape            capSurface \n",
      "                    2                     6                     4 \n",
      "             capColor               bruises                  odor \n",
      "                   10                     2                     9 \n",
      "       gillAttachment           gillSpacing              gillSize \n",
      "                    2                     2                     2 \n",
      "            gillColor            stalkShape             stalkRoot \n",
      "                   12                     2                     5 \n",
      "stalkSurfaceAboveRing stalkSurfaceBelowRing   stalkColorAboveRing \n",
      "                    4                     4                     9 \n",
      "  stalkColorBelowRing              veilType             veilColor \n",
      "                    9                     1                     4 \n",
      "           ringNumber              ringType       sporePrintColor \n",
      "                    3                     5                     9 \n",
      "           population               habitat \n",
      "                    6                     7 \n",
      "                class              capShape            capSurface \n",
      "                    2                     6                     4 \n",
      "              bruises        gillAttachment           gillSpacing \n",
      "                    2                     2                     2 \n",
      "             gillSize            stalkShape stalkSurfaceAboveRing \n",
      "                    2                     2                     4 \n",
      "stalkSurfaceBelowRing             veilColor            ringNumber \n",
      "                    4                     4                     3 \n",
      "             ringType \n",
      "                    5 \n"
     ]
    }
   ],
   "source": [
    "# Set the file path to your CSV file\n",
    "file_path <- \"../Datasett/mushrooms.csv\"\n",
    "\n",
    "# Set the full path for the output CSV file\n",
    "output_file_path <- \"../Datasett/modified_data.csv\"\n",
    "\n",
    "columns_to_keep <- c(\"class\",\"capShape\",\"capSurface\",\"bruises\",\"gillAttachment\",\"gillSpacing\",\"gillSize\",\"stalkShape\",\"stalkSurfaceAboveRing\",\"stalkSurfaceBelowRing\",\"veilColor\",\"ringNumber\",\"ringType\")\n",
    "#gillColor` has 12, `capColor` 10, `stalkColorBelowRing` 9, `odor` 9, `stalkColorAboveRing` 8, `sporePrintColor` 9, population, habitat\n",
    "# Subset the data to keep only the selected columns\n",
    "\n",
    "data <- read.csv(file_path, header = TRUE, sep = \",\", na.strings = \"?\")\n",
    "# Show the number of unique values for each attribute\n",
    "unique_counts <- sapply(data, function(x) length(unique(x)))\n",
    "print(unique_counts)\n",
    "\n",
    "\n",
    "# Load the CSV file with comma as the separator and the first row as headers\n",
    "data <- data[, columns_to_keep]\n",
    "\n",
    "# Save the modified data as a CSV file with the specified full path\n",
    "write.csv(data, file = output_file_path, row.names = FALSE)\n",
    "\n",
    "# Show the number of unique values for each attribute\n",
    "unique_counts <- sapply(data, function(x) length(unique(x)))\n",
    "print(unique_counts)"
   ]
  },
  {
   "cell_type": "markdown",
   "metadata": {},
   "source": [
    "Based in the info bellow we can se the number of possible values for each variate: `gillColor` has 12, `capColor` 10, `stalkColorBelowRing` 9, `odor` 9, `stalkColorAboveRing` 9, `sporePrintColor` 9, `habitat` 7, `population` 6, `capShape` 6"
   ]
  },
  {
   "cell_type": "markdown",
   "metadata": {},
   "source": [
    "The `buildagent()` method can't run without limmiting the training set.\n",
    "Here we are building an temorary agent for calcualting predictors relevance."
   ]
  },
  {
   "cell_type": "code",
   "execution_count": 3,
   "metadata": {
    "vscode": {
     "languageId": "r"
    }
   },
   "outputs": [],
   "source": [
    "guessmetadata(data = \"../Datasett/modified_data.csv\",\n",
    "              file = \"../Datasett/preliminary.csv\")\n",
    "\n",
    "opmall <- buildagent(metadata = \"../Datasett/preliminary.csv\",\n",
    "                     data = fread(\"../Datasett/modified_data.csv\"))"
   ]
  },
  {
   "cell_type": "markdown",
   "metadata": {},
   "source": [
    "For checking correlation between to variates"
   ]
  },
  {
   "cell_type": "markdown",
   "metadata": {},
   "source": [
    "----\n",
    "\n",
    "## Calculating relevance of predictors\n",
    "\n",
    "The agent can calculate the mutual information (measured in shannons) between any two sets of variates `A` and `B` of our choice, with the function `mutualinfo(probs, A, B)`. The joint probabilities for `(A,B)` must first be calculated with `infer()`.\n",
    "\n",
    "For instance, what is the mutual information between `capColor` and `dodor`? The mutual information in this case can be anywhere between 0 Sh and 1 Sh \n",
    "\n",
    "In this example we will compare the fulle sett but only removing one variate at a time.\n",
    "When the score in sh is lower, it will mean that the variate left out has informasjon which when combined with the other variates has a significant impact in the prediction of the `class`.\n"
   ]
  },
  {
   "cell_type": "markdown",
   "metadata": {},
   "source": [
    "# The code bellow checks the relevance with combination of two varaites."
   ]
  },
  {
   "cell_type": "code",
   "execution_count": null,
   "metadata": {
    "vscode": {
     "languageId": "r"
    }
   },
   "outputs": [],
   "source": [
    "navn <- colnames(data)\n",
    "navn <- navn[2:15]\n",
    "print(length(navn))\n",
    "\n",
    "i <- 1\n",
    "j <- 2\n",
    "\n",
    "result_list <- list()\n",
    "\n",
    "while (i != 13) {\n",
    "  while (j != 14) {\n",
    "\n",
    "    probs <- infer(agent = opmall, predictand = c(\"class\", navn[i], navn[j]))\n",
    "    result <- mutualinfo(probs = probs, A = \"class\", B = c(navn[i], navn[j]))\n",
    "\n",
    "    result_list[[paste0(navn[i], \" & \", navn[j])]] <- result\n",
    "    #print(paste0(signif(result, 4), ' Sh'))\n",
    "\n",
    "    j <- j + 1\n",
    "  }\n",
    "  j <- i + 2\n",
    "  i <- i + 1\n",
    "}\n",
    "sorted_result_list <- result_list[order(-unlist(result_list))]\n",
    "sorted_result_list\n"
   ]
  },
  {
   "cell_type": "markdown",
   "metadata": {},
   "source": [
    "# Test of each individual variate to check their relevance to `class`"
   ]
  },
  {
   "cell_type": "code",
   "execution_count": null,
   "metadata": {
    "vscode": {
     "languageId": "r"
    }
   },
   "outputs": [],
   "source": [
    "## list of all variates\n",
    "variates <- names(dimnames(opmall$counts))\n",
    "\n",
    "## list of all variates except 'income'\n",
    "predictors <- variates[variates != 'class']\n",
    "\n",
    "## prepare vector to contain the mutual information\n",
    "relevances <- numeric(length(predictors))\n",
    "names(relevances) <- predictors\n",
    "\n",
    "## calculate, for each variate,\n",
    "## the joint probability distribution 'probs'\n",
    "## and then mutual information 'relevance' (in shannons)\n",
    "## between 'income' and that variate\n",
    "for(var in predictors){\n",
    "    probs <- infer(agent=opmall, predictand=c('class',var))\n",
    "    relevances[var] <- mutualinfo(probs=probs, A='class', B=var)\n",
    "}\n",
    "\n",
    "## output the mutual informations in decreasing order\n",
    "sort(relevances, decreasing=TRUE)"
   ]
  },
  {
   "cell_type": "markdown",
   "metadata": {},
   "source": [
    "# Checking the relevance for all varaiates except one."
   ]
  },
  {
   "cell_type": "code",
   "execution_count": null,
   "metadata": {
    "vscode": {
     "languageId": "r"
    }
   },
   "outputs": [],
   "source": [
    "navn <- colnames(data)\n",
    "navn <- navn[2:15]\n",
    "print(length(navn))\n",
    "i <- 1\n",
    "result_list <- list()\n",
    "\n",
    "while (i <= 14) {\n",
    "  print(navn[i])\n",
    "  print(i)\n",
    "  # Create a modified version of navn without the current_variate\n",
    "  navn_without_current <- navn[-i]\n",
    "  probs <- infer(agent = opmall, predictand = c(\"class\", navn_without_current))\n",
    "  result <- mutualinfo(probs = probs, A = \"class\", B = navn_without_current)\n",
    "\n",
    "  result_list[[paste0(\"Uten variate; \", navn[i])]] <- result\n",
    "  i <- i + 1\n",
    "}\n",
    "sorted_result_list <- result_list[order(-unlist(result_list))]\n",
    "sorted_result_list"
   ]
  },
  {
   "cell_type": "markdown",
   "metadata": {},
   "source": [
    "# Loadign inn the train_set.csv"
   ]
  },
  {
   "cell_type": "code",
   "execution_count": 4,
   "metadata": {
    "vscode": {
     "languageId": "r"
    }
   },
   "outputs": [],
   "source": [
    "# Set the file path to your CSV file\n",
    "file_path <- \"../Datasett/train_set.csv\"\n",
    "\n",
    "# Load the CSV file with comma as the separator and the first row as headers\n",
    "data <- read.csv(file_path, header = TRUE, sep = \",\", na.strings = \"?\")"
   ]
  },
  {
   "cell_type": "markdown",
   "metadata": {},
   "source": [
    "Only keeping:   \"class\",\"capShape\",\"capSurface\",\"bruises\",\"gillAttachment\", \"gillSpacing\", \"gillSize\",\"stalkShape\",\"stalkSurfaceAboveRing\",\"stalkSurfaceBelowRing\",\"veilColor\",\"ringNumber\",\"ringType\"\n"
   ]
  },
  {
   "cell_type": "code",
   "execution_count": 5,
   "metadata": {
    "vscode": {
     "languageId": "r"
    }
   },
   "outputs": [],
   "source": [
    "# Specify the columns to keep\n",
    "columns_to_keep <- c(\"class\",\"capShape\",\"capSurface\",\"bruises\",\"gillAttachment\", \"gillSpacing\", \"gillSize\",\"stalkShape\",\"stalkSurfaceAboveRing\",\"stalkSurfaceBelowRing\",\"veilColor\",\"ringNumber\",\"ringType\")\n",
    "# Subset the data to keep only the selected columns\n",
    "data <- data[, columns_to_keep]\n",
    "output_file_path <- \"../Datasett/train_modified.csv\"\n",
    "write.csv(data, file = output_file_path, row.names = FALSE)"
   ]
  },
  {
   "cell_type": "markdown",
   "metadata": {},
   "source": [
    "Checking to see the amount of unique rows in the dataset."
   ]
  },
  {
   "cell_type": "code",
   "execution_count": 6,
   "metadata": {
    "vscode": {
     "languageId": "r"
    }
   },
   "outputs": [
    {
     "name": "stdout",
     "output_type": "stream",
     "text": [
      "[1] \"Number of unique rows: 180\"\n"
     ]
    }
   ],
   "source": [
    "# Assuming your data frame is named \"data\"\n",
    "unique_rows <- !duplicated(data)\n",
    "\n",
    "# Print the number of unique rows\n",
    "print(paste0(\"Number of unique rows: \", nrow(data[unique_rows,])))\n"
   ]
  },
  {
   "cell_type": "markdown",
   "metadata": {},
   "source": [
    "Creating matadatafile for the datasett. This tells us how many variates there are, as well as how many possible values each variate can have"
   ]
  },
  {
   "cell_type": "code",
   "execution_count": 7,
   "id": "b9836e7f-8196-4ec2-95d6-852a89a4240c",
   "metadata": {
    "vscode": {
     "languageId": "r"
    }
   },
   "outputs": [],
   "source": [
    "guessmetadata(data = '../Datasett/train_modified.csv',\n",
    "              file = \"../Datasett/preliminary.csv\")"
   ]
  },
  {
   "cell_type": "markdown",
   "id": "b969f8c1-2e8c-42c5-9a08-1e6d96aac406",
   "metadata": {},
   "source": [
    "## Building the agent\n",
    "\n",
    "is done with the function `buildagent()`, which takes as input the metadata and training data, and output an object of class \"agent\".\n",
    "\n",
    "In this exploration we build two agents:\n",
    "- `opm10`: trained with 10 datapoints\n",
    "- `opmall`: trained with all datapoints"
   ]
  },
  {
   "cell_type": "code",
   "execution_count": 8,
   "id": "5e695464-da0b-4212-bf83-82aec0dcf50b",
   "metadata": {
    "vscode": {
     "languageId": "r"
    }
   },
   "outputs": [],
   "source": [
    "#opm10 <- buildagent(metadata='meta_income_data_example.csv',\n",
    "#                    data=fread('train-income_data_example.csv', header=TRUE)[1:10])\n",
    "#\n",
    "#opmall <- buildagent(metadata='meta_income_data_example.csv',\n",
    "#                     data='train-income_data_example.csv')\n",
    "opm10 <- buildagent(metadata = \"../Datasett/preliminary.csv\",\n",
    "                     data = fread('../Datasett/train_modified.csv')[1:10])\n",
    "\n",
    "opmall <- buildagent(metadata = \"../Datasett/preliminary.csv\",\n",
    "                     data = fread('../Datasett/train_modified.csv'))"
   ]
  },
  {
   "cell_type": "markdown",
   "metadata": {},
   "source": [
    "Checking for how many total variates times the amount of data.????"
   ]
  },
  {
   "cell_type": "code",
   "execution_count": 9,
   "metadata": {
    "vscode": {
     "languageId": "r"
    }
   },
   "outputs": [],
   "source": [
    "# Set the file path to your CSV file\n",
    "file_path <- \"../Datasett/test_set.csv\"\n",
    "\n",
    "# Load the CSV file with comma as the separator and the first row as headers\n",
    "test <- read.csv(file_path, header = TRUE, sep = \",\", na.strings = \"?\")\n",
    "\n",
    "# Specify the columns to keep\n",
    "columns_to_keep <- c(\"class\",\"capShape\",\"capSurface\",\"bruises\",\"gillAttachment\", \"gillSpacing\", \"gillSize\",\"stalkShape\",\"stalkSurfaceAboveRing\",\"stalkSurfaceBelowRing\",\"veilColor\",\"ringNumber\",\"ringType\")\n",
    "\n",
    "# Subset the data to keep only the selected columns\n",
    "test <- test[, columns_to_keep]"
   ]
  },
  {
   "cell_type": "code",
   "execution_count": 10,
   "metadata": {
    "vscode": {
     "languageId": "r"
    }
   },
   "outputs": [],
   "source": [
    "# Specify the columns to keep\n",
    "columns_to_keep <- c(\"class\",\"capShape\",\"capSurface\",\"bruises\",\"gillAttachment\", \"gillSpacing\", \"gillSize\",\"stalkShape\",\"stalkSurfaceAboveRing\",\"stalkSurfaceBelowRing\",\"veilColor\",\"ringNumber\",\"ringType\")\n",
    "\n",
    "# Subset the data to keep only the selected columns\n",
    "data <- data[, columns_to_keep]\n",
    "output_file_path <- \"../Datasett/train_modified.csv\"\n",
    "write.csv(data, file = output_file_path, row.names = FALSE)\n",
    "\n",
    "guessmetadata(data = '../Datasett/train_modified.csv',\n",
    "              file = \"../Datasett/preliminary.csv\")\n",
    "\n",
    "opm10 <- buildagent(metadata = \"../Datasett/preliminary.csv\",\n",
    "                     data = fread('../Datasett/train_modified.csv')[1:10])\n",
    "\n",
    "opmall <- buildagent(metadata = \"../Datasett/preliminary.csv\",\n",
    "                     data = fread('../Datasett/train_modified.csv'))"
   ]
  },
  {
   "cell_type": "code",
   "execution_count": 13,
   "metadata": {
    "vscode": {
     "languageId": "r"
    }
   },
   "outputs": [
    {
     "name": "stdout",
     "output_type": "stream",
     "text": [
      "         class\n",
      "action      e   p\n",
      "  Eat     1.0 0.0\n",
      "  Not-eat 0.7 0.8\n"
     ]
    }
   ],
   "source": [
    "mushroom_utilities <- matrix(c(1,0, 0.7, 0.8), nrow=2, byrow=TRUE, dimnames=list(action=c('Eat','Not-eat'), class=c('e', 'p')))\n",
    "\n",
    "print(mushroom_utilities) "
   ]
  },
  {
   "cell_type": "code",
   "execution_count": 14,
   "metadata": {
    "vscode": {
     "languageId": "r"
    }
   },
   "outputs": [
    {
     "name": "stdout",
     "output_type": "stream",
     "text": [
      "         class\n",
      "action      e   p\n",
      "  Eat     825   0\n",
      "  Not-eat  18 782\n"
     ]
    }
   ],
   "source": [
    "antall <- nrow(test)\n",
    "correct_list <- list()\n",
    "result_list <- list()\n",
    "confusionmatrix <- mushroom_utilities * 0L\n",
    "\n",
    "i <- 1\n",
    "while (i <= antall) {\n",
    "    result <- infer(\n",
    "        agent = opmall, \n",
    "        predictand = \"class\",\n",
    "        predictor = list(capShape = test[i,2], capSurface= test[i,3],bruises=test[i,4], gillAttachment = test[i,5], gillSpacing = test[i,6], gillSize = test[i,7], stalkShape = test[i,8], stalkSurfaceAboveRing = test[i, 9], stalkSurfaceBelowRing = test[i,10], veilColor = test[i, 11], ringNumber = test[i, 12], ringType = test[i,13])\n",
    "    )\n",
    "\n",
    "    decision <- decide(utils = mushroom_utilities, probs = result)$optimal\n",
    "    if(decision == \"e\") {\n",
    "        decision = \"Eat\"\n",
    "    }\n",
    "    else {\n",
    "        decision = \"Not-eat\"\n",
    "    }\n",
    "    trueclass <- test[i, \"class\"]\n",
    "\n",
    "    confusionmatrix[decision, trueclass] <- confusionmatrix[decision, trueclass] + 1L\n",
    "    \n",
    "    i <- i + 1  # Increment the loop counter\n",
    "}\n",
    "\n",
    "print(confusionmatrix)\n"
   ]
  },
  {
   "cell_type": "code",
   "execution_count": null,
   "metadata": {
    "vscode": {
     "languageId": "r"
    }
   },
   "outputs": [],
   "source": [
    "mushroom_utilities <- matrix(c(1,0, 0.2,0.2), nrow=2, byrow=TRUE, dimnames=list(action=c('Eat','Not-eat'), class=c('e', 'p')))\n",
    "\n",
    "print(mushroom_utilities) "
   ]
  },
  {
   "cell_type": "code",
   "execution_count": null,
   "metadata": {
    "vscode": {
     "languageId": "r"
    }
   },
   "outputs": [],
   "source": [
    "antall <- nrow(test)\n",
    "correct_list <- list()\n",
    "result_list <- list()\n",
    "confusionmatrix <- mushroom_utilities * 0L\n",
    "\n",
    "i <- 1\n",
    "while (i <= antall) {\n",
    "    result <- infer(\n",
    "        agent = opmall, \n",
    "        predictand = \"class\",\n",
    "        predictor = list(capShape = test[i,2], capSurface= test[i,3],bruises=test[i,4], gillAttachment = test[i,5], gillSpacing = test[i,6], gillSize = test[i,7], stalkShape = test[i,8], stalkSurfaceAboveRing = test[i, 9], stalkSurfaceBelowRing = test[i,10], veilColor = test[i, 11], ringNumber = test[i, 12], ringType = test[i,13])\n",
    "    )\n",
    "\n",
    "    decision <- decide(utils = mushroom_utilities, probs = result)$optimal\n",
    "    if(decision == \"e\") {\n",
    "        decision = \"Eat\"\n",
    "    }\n",
    "    else {\n",
    "        decision = \"Not-eat\"\n",
    "    }\n",
    "    trueclass <- test[i, \"class\"]\n",
    "\n",
    "    confusionmatrix[decision, trueclass] <- confusionmatrix[decision, trueclass] + 1L\n",
    "    \n",
    "    i <- i + 1  # Increment the loop counter\n",
    "}\n",
    "\n",
    "print(confusionmatrix)\n"
   ]
  },
  {
   "cell_type": "markdown",
   "metadata": {},
   "source": [
    "## Secretary problem with mushroom.If the hights is not found the last is force-fed."
   ]
  },
  {
   "cell_type": "code",
   "execution_count": null,
   "metadata": {
    "vscode": {
     "languageId": "r"
    }
   },
   "outputs": [],
   "source": [
    "result_secretary <- list()\n",
    "truth_secretary <- list()\n",
    "x <- 1\n",
    "\n",
    "while(x <= 1000){\n",
    "test <- read.csv(\"../Datasett/test_set.csv\", header = TRUE, sep = \",\", na.strings = \"?\")\n",
    "columns_to_keep <- c(\"class\",\"capShape\",\"capSurface\",\"bruises\",\"gillAttachment\", \"gillSpacing\", \"gillSize\",\"stalkShape\",\"stalkSurfaceAboveRing\",\"stalkSurfaceBelowRing\",\"veilColor\",\"ringNumber\",\"ringType\")\n",
    "\n",
    "# Subset the data to keep only the selected columns\n",
    "test <- test[, columns_to_keep]\n",
    "# Shuffle the rows in the test set\n",
    "test <- test[sample(nrow(test)), ]\n",
    "\n",
    "test <- test[1:100, ]\n",
    "antall <- nrow(test)\n",
    "correct_list <- list()\n",
    "result_list <- list()\n",
    "\n",
    "highest <- 0\n",
    "i <- 1\n",
    "while (i <= antall*0.37) {\n",
    "    result <- infer(\n",
    "        agent = opmall, \n",
    "        predictand = \"class\",\n",
    "        predictor = list(capShape = test[i,2], capSurface= test[i,3],bruises=test[i,4], gillAttachment = test[i,5], gillSpacing = test[i,6], gillSize = test[i,7], stalkShape = test[i,8], stalkSurfaceAboveRing = test[i, 9], stalkSurfaceBelowRing = test[i,10], veilColor = test[i, 11], ringNumber = test[i, 12], ringType = test[i,13])\n",
    "    )\n",
    "    decision <- decide(utils = mushroom_utilities, probs = result)$EUs\n",
    "\n",
    "    #cat(\"Decision: \", decision[1], \"\\n\")\n",
    "   \n",
    "\n",
    "    if (decision[1] > highest) {\n",
    "      \n",
    "      highest <- decision[1]\n",
    "      #cat(\"Highest: \", highest, \"\\n\")\n",
    "    }\n",
    "    i <- i + 1  # Increment the loop counter\n",
    "}\n",
    "\n",
    "while (i <= antall) {\n",
    "      result <- infer(\n",
    "        agent = opmall,\n",
    "        predictand = \"class\",\n",
    "        predictor = list(capShape = test[i,2], capSurface= test[i,3],bruises=test[i,4], gillAttachment = test[i,5], gillSpacing = test[i,6], gillSize = test[i,7], stalkShape = test[i,8], stalkSurfaceAboveRing = test[i, 9], stalkSurfaceBelowRing = test[i,10], veilColor = test[i, 11], ringNumber = test[i, 12], ringType = test[i,13])\n",
    "      )\n",
    "  decision <- decide(utils = mushroom_utilities, probs = result)$EUs\n",
    "    if (decision[1] >= highest) {\n",
    "      #print(\"Choosing to eat this: \")\n",
    "      #print(decision)\n",
    "\n",
    "      #print(\"this is the number \")\n",
    "      #print(i)\n",
    "      result_secretary[[x]] <- i\n",
    "      truth_secretary[[x]] <- test[i, \"class\"]\n",
    "      #print(\" amongst the 100 mushroom\")\n",
    "      break\n",
    "    }\n",
    "    if (i == 100) {\n",
    "      result_secretary[[x]] <- i\n",
    "      truth_secretary[[x]] <- test[i, \"class\"]\n",
    "    }\n",
    "    i <- i + 1  # Increment the loop counter\n",
    "}\n",
    "x <- x + 1\n",
    "}\n",
    "\n",
    "double_list = list(result_secretary, truth_secretary)\n",
    "output_file_path <- \"../Datasett/secretary.csv\"\n",
    "write.csv(double_list, file = output_file_path)\n",
    "\n",
    "#result_secretary\n"
   ]
  },
  {
   "cell_type": "code",
   "execution_count": null,
   "metadata": {
    "vscode": {
     "languageId": "r"
    }
   },
   "outputs": [],
   "source": [
    "# Install and load the ggplot2 package if you haven't already\n",
    "# install.packages(\"ggplot2\")\n",
    "library(ggplot2)\n",
    "\n",
    "# Assuming you have a list named result_secretary with 1000 elements\n",
    "set.seed(123)  # Setting seed for reproducibility\n",
    "#result_secretary <- sample(0:100, 1000, replace = TRUE)\n",
    "\n",
    "# Create a data frame\n",
    "data <- data.frame(result_secretary)\n",
    "\n",
    "# Create a scatter plot using ggplot2\n",
    "ggplot(data, aes(x = seq_along(result_secretary), y = result_secretary, color = factor(result_secretary == 100))) +\n",
    "  geom_point() +\n",
    "  scale_color_manual(values = c(\"green\", \"red\"), guide = FALSE) +\n",
    "  ggtitle(\"Scatter Plot of Result Secretary\") +\n",
    "  xlab(\"Index\") +\n",
    "  ylab(\"Result Secretary\")\n",
    "\n",
    "# To print the graph, you can run the code in the R console or R script.\n",
    "# If you're using RStudio, the graph will be displayed in the Plots pane.\n",
    "\n",
    "# This example uses color = factor(result_secretary == 100) to create a factor variable for coloring.\n",
    "# The scale_color_manual function is used to specify the colors for each factor level.\n",
    "# In this case, \"green\" for FALSE (not equal to 100) and \"red\" for TRUE (equal to 100).\n",
    "# The guide = FALSE argument removes the color legend.\n"
   ]
  },
  {
   "cell_type": "code",
   "execution_count": null,
   "metadata": {
    "vscode": {
     "languageId": "r"
    }
   },
   "outputs": [],
   "source": [
    "i <- 1\n",
    "for (value in truth_secretary) {\n",
    "  if (value == \"p\") {\n",
    "    print(\"POISON\")\n",
    "  }\n",
    "  i <- i + 1\n",
    "}"
   ]
  },
  {
   "cell_type": "code",
   "execution_count": null,
   "metadata": {
    "vscode": {
     "languageId": "r"
    }
   },
   "outputs": [],
   "source": [
    "antall <- nrow(test)\n",
    "correct_list <- list()\n",
    "result_list <- list()\n",
    "confusionmatrix <- mushroom_utilities * 0L\n",
    "i <- 1\n",
    "while (i <= antall) {\n",
    "    result <- infer(\n",
    "    agent = opmall, predictand = \"class\",\n",
    "    predictor = list( gillAttachment = test[i, 7], stalkShape = test[i, 11], stalkSurfaceAboveRing = test[i, 13], stalkSurfaceBelowRing = test[i, 14], veilColor = test[i, 18], ringNumber = test[i, 19], ringType = test[i, 20]) )\n",
    "\n",
    "    decision <- decide(utils=mushroom_utilities, probs=result)\n",
    "    trueclass <- test[i]$class\n",
    "\n",
    "    confusionmatrix[decision, trueclass] <- confusionmatrix[decision, trueclass] + 1L\n",
    "}\n",
    "print(confusionmatrix)\n"
   ]
  },
  {
   "cell_type": "code",
   "execution_count": null,
   "metadata": {
    "vscode": {
     "languageId": "r"
    }
   },
   "outputs": [],
   "source": [
    "optimalad <- decide(utils=mushroom_utilities, probs= result_list[1])\n",
    "\n",
    "print(optimalad)"
   ]
  },
  {
   "cell_type": "code",
   "execution_count": null,
   "metadata": {
    "vscode": {
     "languageId": "r"
    }
   },
   "outputs": [],
   "source": [
    "length(opmall$counts)"
   ]
  },
  {
   "cell_type": "markdown",
   "id": "40705e94-2d69-4993-95f8-ab123261ec52",
   "metadata": {},
   "source": [
    "You can check the internal structure of the \"agent\" object with `str()`:"
   ]
  },
  {
   "cell_type": "code",
   "execution_count": null,
   "id": "1b8c8a5e-ac0f-48a6-87a0-cfa8498308c8",
   "metadata": {
    "vscode": {
     "languageId": "r"
    }
   },
   "outputs": [],
   "source": [
    "str(opmall)"
   ]
  },
  {
   "cell_type": "markdown",
   "id": "8d4ae791-65e4-4265-a2ed-144baaa464f4",
   "metadata": {},
   "source": [
    "The \"agent\" object internally contains a parameter `alpha` expressing its guess of how many training data (just as a order of magnitude in base-2) would be needed to make reliable inferences about the full population.\n",
    "\n",
    "Here are several guesses with their probabilities; you see that most probable is around 2000 training datapoints:"
   ]
  },
  {
   "cell_type": "code",
   "execution_count": null,
   "id": "81c67ad8-f354-4e54-aec8-b0187df06c75",
   "metadata": {
    "vscode": {
     "languageId": "r"
    }
   },
   "outputs": [],
   "source": [
    "tplot(x=opmall$alphas, y=opmall$palphas, type='b',\n",
    "      xlim=c(0, 1000), ylim=c(0, NA),\n",
    "      xlab='amount of needed data for overcoming prior beliefs', ylab='probability')"
   ]
  },
  {
   "cell_type": "markdown",
   "id": "a169fb52-dd4a-43a0-9520-5271ce668261",
   "metadata": {},
   "source": [
    "## Only predictands, no predictors (\"unsupervised-learning mode\")"
   ]
  },
  {
   "cell_type": "markdown",
   "id": "d17ac823-90a7-43c8-90f0-a669199cc884",
   "metadata": {},
   "source": [
    "Let the little-trained agent forecast `income` for next unit"
   ]
  },
  {
   "cell_type": "code",
   "execution_count": null,
   "id": "58d651ad-bc5b-440a-a016-a59f8ba52e82",
   "metadata": {
    "vscode": {
     "languageId": "r"
    }
   },
   "outputs": [],
   "source": [
    "print(infer(agent=opm10, predictand='Na'))"
   ]
  },
  {
   "cell_type": "markdown",
   "id": "f189a33e-7de6-46b9-8f9a-4f1088214b3d",
   "metadata": {},
   "source": [
    "The agent is internally checking *all possible* population-frequency distributions. It can therefore forecast how its probabilities could change *if more training data were provided*:"
   ]
  },
  {
   "cell_type": "code",
   "execution_count": null,
   "id": "bfb5fd17-c9b1-479a-8c53-987a83ceeef6",
   "metadata": {
    "vscode": {
     "languageId": "r"
    }
   },
   "outputs": [],
   "source": [
    "plotFsamples1D(agent=opm10, n=200, predictand='class',\n",
    "               ylim=c(0,1), main='opm10') # last options are for plotting"
   ]
  },
  {
   "cell_type": "markdown",
   "id": "ed3f2e92-178f-4012-a97c-3520f1a6cd41",
   "metadata": {},
   "source": [
    "Now let's check the inference drawn by the fully-trained agent"
   ]
  },
  {
   "cell_type": "code",
   "execution_count": null,
   "id": "026f5c50-107c-48fe-ba01-ca01a3ab1da0",
   "metadata": {
    "vscode": {
     "languageId": "r"
    }
   },
   "outputs": [],
   "source": [
    "print(infer(agent=opmall, predictand='class'))"
   ]
  },
  {
   "cell_type": "markdown",
   "id": "e631df4f-db36-4a19-a8c0-9b3d2ed5b7b3",
   "metadata": {},
   "source": [
    "Also this agent can tell us how much would new training data change its inference:"
   ]
  },
  {
   "cell_type": "code",
   "execution_count": null,
   "id": "00bbd63a-485d-4b4e-8a19-916e72097bbe",
   "metadata": {
    "vscode": {
     "languageId": "r"
    }
   },
   "outputs": [],
   "source": [
    "plotFsamples1D(agent=opmall, n=200, predictand='class',\n",
    "               ylim=c(0,1), main='opmall')"
   ]
  },
  {
   "cell_type": "markdown",
   "id": "97aff833-7674-4213-b5e5-44f927e26a14",
   "metadata": {},
   "source": [
    "We can draw inferences in the same way for any other variate, e.g. `capColor`.\n",
    "\n",
    "This is the inference by the `opm10` agent:"
   ]
  },
  {
   "cell_type": "code",
   "execution_count": null,
   "id": "b0daee55-1e49-491f-9358-1b447f3009db",
   "metadata": {
    "vscode": {
     "languageId": "r"
    }
   },
   "outputs": [],
   "source": [
    "plotFsamples1D(agent=opm10, n=200, predictand='capColor',\n",
    "               ylim=c(0,1), main='opm10')  # last options are for plotting"
   ]
  },
  {
   "cell_type": "markdown",
   "id": "b87ae405-4e37-4f8c-bae3-00e04a5a02e2",
   "metadata": {},
   "source": [
    "...and by the `opmall` agent:"
   ]
  },
  {
   "cell_type": "code",
   "execution_count": null,
   "id": "3c8c30b3-d811-4fbc-b834-8c88c23ad7b3",
   "metadata": {
    "vscode": {
     "languageId": "r"
    }
   },
   "outputs": [],
   "source": [
    "plotFsamples1D(agent=opmall, n=200, predictand='capColor',\n",
    "               ylim=c(0,1), main='opmall')  # last options are for plotting"
   ]
  },
  {
   "cell_type": "markdown",
   "id": "772baeaf-a5d3-4f69-a22d-e123079f6aee",
   "metadata": {},
   "source": [
    "The agent can also draw inferences about several joint variates.\n",
    "\n",
    "For instance `class` and `capColor` (let's show percentages and round to one decimal):"
   ]
  },
  {
   "cell_type": "code",
   "execution_count": null,
   "id": "c6a505ef-f568-44e7-a045-183a1b385a6e",
   "metadata": {
    "vscode": {
     "languageId": "r"
    }
   },
   "outputs": [],
   "source": [
    "result <- infer(agent=opmall, predictand=c('class', 'capColor'))\n",
    "\n",
    "print(round(result*100, 1))"
   ]
  },
  {
   "cell_type": "markdown",
   "id": "bee0efb5-8bb5-4bb3-a8d7-8aa77d0e2f1d",
   "metadata": {},
   "source": [
    "\n",
    "## Using predictors (\"supervised-learning mode\")"
   ]
  },
  {
   "cell_type": "markdown",
   "id": "6995edc7-8b07-44d2-8b25-0c6754a7ff6d",
   "metadata": {},
   "source": [
    "Suppose we know that `capSurface='y'` and `capColor='f'` for the new unit. What can the `class` be?"
   ]
  },
  {
   "cell_type": "code",
   "execution_count": null,
   "metadata": {
    "vscode": {
     "languageId": "r"
    }
   },
   "outputs": [],
   "source": [
    "#class,capShape,capSurface,capColor,bruises,odor,gillAttachment,gillSpacing,gillSize,gillColor,stalkShape,stalkRoot,stalkSurfaceAboveRing,stalkSurfaceBelowRing,stalkColorAboveRing,stalkColorBelowRing,veilType,veilColor,ringNumber,ringType,sporePrintColor,population,habitat\n",
    "#p,x,s,n,t,p,f,c,n,k,e,e,s,s,w,w,p,w,o,p,k,s,u"
   ]
  },
  {
   "cell_type": "code",
   "execution_count": null,
   "id": "7073ce9f-8665-427b-85d2-4727138394b0",
   "metadata": {
    "vscode": {
     "languageId": "r"
    }
   },
   "outputs": [],
   "source": [
    "\n",
    "result <- infer(\n",
    "    agent = opmall, predictand = \"class\",\n",
    "    predictor = list(capShape = \"x\", capSurface = \"s\", bruises = \"t\", gillAttachment = \"f\", gillSize = \"n\", stalkShape = \"e\", stalkRoot = \"e\", stalkSurfaceAboveRing = \"s\", stalkSurfaceBelowRing = \"s\", veilType = \"p\", veilColor = \"w\", ringNumber = \"o\", ringType = \"p\")\n",
    ")\n",
    "#(\"class\",\"capShape\",\"capSurface\",\"bruises\",\"gillAttachment\",\"gillSize\",\"stalkShape\",\"stalkRoot\",\"stalkSurfaceAboveRing\",\"stalkSurfaceBelowRing\",\"veilType\",\"veilColor\",\"ringNumber\",\"ringType\")\n",
    "\n",
    "print(round(result * 100, 1))\n"
   ]
  },
  {
   "cell_type": "markdown",
   "id": "d623f521-7eff-4830-be9e-4f30e04f648e",
   "metadata": {},
   "source": [
    "Also in this case we can ask how much this inference could be changed by new training data.\n",
    "\n",
    "Note how the agent warns us that, with more training data, it could happen that the percentages would be reversed – observe the gray lines:"
   ]
  },
  {
   "cell_type": "code",
   "execution_count": null,
   "id": "2fbc5697-9ffe-48a1-b272-a475ce122257",
   "metadata": {
    "vscode": {
     "languageId": "r"
    }
   },
   "outputs": [],
   "source": [
    "plotFsamples1D(agent=opmall, n=600,\n",
    "               predictand='class',\n",
    "               predictor=list(capSurface = \"y\", capColor = \"p\"),\n",
    "               ylim=c(0,1), main='opmall')"
   ]
  },
  {
   "cell_type": "markdown",
   "id": "135b757c-2139-4d27-a06a-2065fb21d879",
   "metadata": {},
   "source": [
    "Another example: what's the probability for the possible `class`, if we know the present mushroom has  `capSurface = Black` and `capColor = p`?"
   ]
  },
  {
   "cell_type": "code",
   "execution_count": null,
   "id": "a26b04f6-64c5-4d0d-a46e-c3e0d0d80a7e",
   "metadata": {
    "vscode": {
     "languageId": "r"
    }
   },
   "outputs": [],
   "source": [
    "result <- infer(agent=opmall,\n",
    "                predictand='class',\n",
    "                predictor=list(capSurface = \"y\", capColor = \"p\"))\n",
    "\n",
    "print(round(sort(result, decreasing=TRUE) * 100, 1))\n",
    "\n",
    "plotFsamples1D(agent=opmall, n=500,\n",
    "               predictand='class',\n",
    "               predictor=list(capSurface = \"y\", capColor = \"p\"),\n",
    "              ylim=c(0,NA), cex.axis=0.75)"
   ]
  },
  {
   "cell_type": "markdown",
   "id": "b141c7fd-1b10-4a0f-a3ec-0a9a32c1311d",
   "metadata": {},
   "source": [
    "## Inverting predictors and predictands (\"generative mode\")"
   ]
  },
  {
   "cell_type": "markdown",
   "id": "6ed71e96-cc43-497e-9772-993cc2e16d88",
   "metadata": {},
   "source": [
    "We can also infer `occupation` and `sex` given any value of `income`"
   ]
  },
  {
   "cell_type": "code",
   "execution_count": null,
   "id": "e770753e-2da4-406d-bb71-95654462fa40",
   "metadata": {
    "vscode": {
     "languageId": "r"
    }
   },
   "outputs": [],
   "source": [
    "result <- infer(agent=opmall, predictand=c('capSurface', 'capColor'),\n",
    "                predictor=list(class='e'))\n",
    "\n",
    "print('e = edible')\n",
    "print(round(result * 100, 2))\n",
    "\n",
    "cat('\\n\\n') # some newlines\n",
    "\n",
    "\n",
    "result <- infer(agent=opmall, predictand=c('capSurface', 'capColor'),\n",
    "                predictor=list(class='p'))\n",
    "\n",
    "print('p = poisonus')\n",
    "print(round(result * 100, 2))"
   ]
  },
  {
   "cell_type": "markdown",
   "id": "854d3376-6745-4467-8f44-96b29ec21898",
   "metadata": {},
   "source": [
    "----\n",
    "\n",
    "## The `rF()` function\n",
    "\n",
    "This function generates **full-population** frequency distributions (even for subpopulations) that are probable according to the data.\n",
    "\n",
    "For instance, let's see three samples of how the full-population frequency distribution for `sex` and `income` (jointly) could be:"
   ]
  },
  {
   "cell_type": "code",
   "execution_count": null,
   "id": "a748b332-0da0-4b9c-8481-55b3be923c58",
   "metadata": {
    "vscode": {
     "languageId": "r"
    }
   },
   "outputs": [],
   "source": [
    "result <- rF(agent=opmall, n=3, predictand=c('capSurface', 'capColor'))\n",
    "\n",
    "print(aperm(result) * 100) # permutation so that the samples are the last array dimension"
   ]
  },
  {
   "cell_type": "markdown",
   "id": "bf9a2340-c514-4b12-88ba-184410a16d2d",
   "metadata": {},
   "source": [
    "These possible full-population frequency distributions can be used to assess how much the probabilities we find could change, if we collected a much, much larger amount of training data.\n",
    "\n",
    "In the example below, we generate 1000 frequency distributions for `occupation` & `sex` given `income == >50K`, and then take the standard deviations of the samples as a rough measure of how much the probabilities we calculated a couple of cells above could change:"
   ]
  },
  {
   "cell_type": "code",
   "execution_count": null,
   "id": "0e7b7a83-bd01-4c8a-85ad-43060e962101",
   "metadata": {
    "vscode": {
     "languageId": "r"
    }
   },
   "outputs": [],
   "source": [
    "freqsamples <- rF(n=1000, agent=opmall, predictand=c('capSurface', 'capColor'),\n",
    "                  predictor=list(class='e'))\n",
    "\n",
    "variability <- apply(freqsamples,\n",
    "                     c('capSurface', 'capColor'), # which dimensions to apply\n",
    "                     sd) # function to apply to those dimensions\n",
    "\n",
    "print(round(variability * 100, 2)) # round to two decimals"
   ]
  },
  {
   "cell_type": "markdown",
   "id": "a7ae41c1-2ea6-4ba7-97cf-f24bdf19bec7",
   "metadata": {},
   "source": [
    "----\n",
    "\n",
    "## Calculating relevance of predictors\n",
    "\n",
    "The agent can calculate the mutual information (measured in shannons) between any two sets of variates `A` and `B` of our choice, with the function `mutualinfo(probs, A, B)`. The joint probabilities for `(A,B)` must first be calculated with `infer()`.\n",
    "\n",
    "For instance, what is the mutual information between `occupation` and `marital status`? The mutual information in this case can be anywhere between 0 Sh and 1 Sh \n",
    "\n",
    "(We print the result with 4 significant digits)"
   ]
  },
  {
   "cell_type": "code",
   "execution_count": null,
   "id": "8eae9957-44f1-429c-a058-58bf0b87f862",
   "metadata": {
    "vscode": {
     "languageId": "r"
    }
   },
   "outputs": [],
   "source": [
    "probs <- infer(agent=opmall, predictand=c('class', 'capSurface', 'capColor'))\n",
    "\n",
    "result <- mutualinfo(probs=probs, A='class', B=c('capSurface', 'capColor'))\n",
    "\n",
    "print(paste0(signif(result, 4), ' Sh'))"
   ]
  },
  {
   "cell_type": "markdown",
   "id": "06995500-b864-4eaf-85ea-fef3e74643c5",
   "metadata": {},
   "source": [
    "Let’s consider a scenario where, in order to save resources, we can use *only one* variate in order to infer the income. Which of the other variates should we prefer?\n",
    "\n",
    "We can calculate the mutual information between each of them and `income`:"
   ]
  },
  {
   "cell_type": "code",
   "execution_count": null,
   "id": "a2d49bcd-b75e-4681-b11f-b0ee59c33c6d",
   "metadata": {
    "vscode": {
     "languageId": "r"
    }
   },
   "outputs": [],
   "source": [
    "## list of all variates\n",
    "variates <- names(dimnames(opmall$counts))\n",
    "\n",
    "## list of all variates except 'income'\n",
    "predictors <- variates[variates != 'class']\n",
    "\n",
    "## prepare vector to contain the mutual information between each of these possible variates and 'income'\n",
    "relevances <- numeric(length(predictors))\n",
    "names(relevances) <- predictors\n",
    "\n",
    "## calculate joint probability and then mutual information (shannons)\n",
    "## of 'income' and another variate\n",
    "for(var in predictors){\n",
    "    probs <- infer(agent=opmall, predictand=c('class',var)) # calculation of joint probabilities\n",
    "    relevances[var] <- mutualinfo(probs=probs, A='class', B=var) # calculation of mutual information\n",
    "}\n",
    "\n",
    "## output the mutual informations in decreasing order\n",
    "print(round(sort(relevances, decreasing=TRUE), 4))"
   ]
  },
  {
   "cell_type": "markdown",
   "metadata": {},
   "source": [
    "----\n",
    "\n",
    "# Matrix\n",
    "\n",
    "\n"
   ]
  },
  {
   "cell_type": "markdown",
   "id": "79cf117d-f3bc-484b-9c79-c3af5eea39c0",
   "metadata": {},
   "source": [
    "----\n",
    "\n",
    "# Exercise\n",
    "\n",
    "Now consider the scenario where we must *exclude one variate* from the eight predictors, or, equivalently, we can only use seven variates as predictors. Which variate should we exclude?\n",
    "\n",
    "Prepare a script similar to the one above: it should calculate the mutual information between `income` and the other predictors but with one omitted, omitting each of the eight predictors in turn.\n",
    "\n",
    "- Which single variate should not be omitted from the predictors? which single variate could be dropped?\n",
    "\n",
    "- Do you obtain the same relevance ranking as in the “use-one-variate-only” scenario above?\n",
    "\n",
    "**WARNING:** this computation could even take 10 min or more!\n",
    "\n",
    "----\n"
   ]
  },
  {
   "cell_type": "markdown",
   "id": "35569d32-4521-4a2e-8bce-9b3945b0f12a",
   "metadata": {},
   "source": [
    "## Making decisions\n",
    "\n",
    "The agent can make decisions with an arbitrary set of available choices and utilities. The function `decide()` is used for this. It takes as input the probabilities of the uncertain variate, which must first be calculated with `infer()`, and the utilities.\n",
    "\n",
    "As an example, let's imagine that a bank has three loan options `loan_A`, `loan_B`, `loan_C` which yield different utilities depending on the person's income, which however is unknown (unrealistic, I know; but imagine it's the income in ten years).\n",
    "\n",
    "Let's build the utility matrix first:"
   ]
  },
  {
   "cell_type": "code",
   "execution_count": null,
   "id": "0abeda56-c897-4080-b102-55a3b2d0dc8a",
   "metadata": {
    "vscode": {
     "languageId": "r"
    }
   },
   "outputs": [],
   "source": [
    "## Warning: in R, matrices are filled column-wise: column 1 first, then column 2, then column 3, and so on\n",
    "loanutilities <- matrix(c(-4,-1,0, 0,-1,-4), nrow=3, ncol=2, \n",
    "                  dimnames=list(loan=c('loan_A','loan_B','loan_C'), income=c('<=50K','>50K')))\n",
    "\n",
    "print(loanutilities)"
   ]
  },
  {
   "cell_type": "markdown",
   "id": "6d2ebfdb-fae6-4a64-9523-e75a3a489bd3",
   "metadata": {},
   "source": [
    "Now a `race='Black'`, `sex='Female'` person with `occupation='Sales'` asks for a loan. What should the bank decide?\n",
    "\n",
    "We let the `opmall`-agent calculate the probabilities, and then make the optimal decision:"
   ]
  },
  {
   "cell_type": "code",
   "execution_count": null,
   "id": "a749073e-74b1-4ea5-812b-4728f1be1a9d",
   "metadata": {
    "vscode": {
     "languageId": "r"
    }
   },
   "outputs": [],
   "source": [
    "incomeprobs <- infer(agent=opmall, predictand='income', predictor=list(race='Black', sex='Female', occupation='Sales'))\n",
    "\n",
    "optimalchoice <- decide(probs=incomeprobs, utils=loanutilities)\n",
    "\n",
    "print(incomeprobs)\n",
    "cat('\\n')\n",
    "print(optimalchoice)              "
   ]
  },
  {
   "cell_type": "markdown",
   "id": "d05ddc68-38c0-435e-9e26-d6352e755409",
   "metadata": {},
   "source": [
    "Another customer comes in: a `race='White'`, `sex='Male'` person with `occupation='Exec-managerial'`. What's the optimal loan type for this customer?"
   ]
  },
  {
   "cell_type": "code",
   "execution_count": null,
   "id": "aeeb1a9e-8732-484d-89c0-e5ca14986502",
   "metadata": {
    "vscode": {
     "languageId": "r"
    }
   },
   "outputs": [],
   "source": [
    "incomeprobs <- infer(agent=opmall, predictand='income', predictor=list(race='White', sex='Male', occupation='Exec-managerial'))\n",
    "\n",
    "optimalchoice <- decide(probs=incomeprobs, utils=loanutilities)\n",
    "\n",
    "print(incomeprobs)\n",
    "cat('\\n')\n",
    "print(optimalchoice)"
   ]
  },
  {
   "cell_type": "code",
   "execution_count": null,
   "id": "24ecd9e1-4a12-46c9-b822-67f3aa5cff7b",
   "metadata": {
    "vscode": {
     "languageId": "r"
    }
   },
   "outputs": [],
   "source": []
  },
  {
   "cell_type": "code",
   "execution_count": null,
   "id": "a8f44b65-030f-41ad-b44c-7e708cfc32e3",
   "metadata": {
    "vscode": {
     "languageId": "r"
    }
   },
   "outputs": [],
   "source": []
  },
  {
   "cell_type": "code",
   "execution_count": null,
   "id": "f877927a-3d13-4c37-86f1-14a582f73c7d",
   "metadata": {
    "vscode": {
     "languageId": "r"
    }
   },
   "outputs": [],
   "source": [
    "testdata <- fread('test-income_data_example.csv', header=TRUE) # read test data\n",
    "ntest <- nrow(testdata) # number of test data\n",
    "\n",
    "testprobs <- numeric(ntest) # prepare vector of probabilities\n",
    "testhits <- numeric(ntest) # prepare vector of hits\n",
    "\n",
    "stopwatch <- Sys.time() # record time\n",
    "\n",
    "for(i in 1:ntest){\n",
    "    ## calculate probabilities given all variates except 'income'\n",
    "    probs <- infer(agent=opmall, predictor=testdata[i, !'income'])\n",
    "\n",
    "    ## store the probability for <=50K\n",
    "    testprobs[i] <- probs['<=50K']\n",
    "\n",
    "    ## decide on one value, check if decision == true_value, and store result\n",
    "    chosenvalue <- decide(probs=probs)\n",
    "\n",
    "    testhits[i] <- (chosenvalue == testdata[i, 'income'])\n",
    "}\n",
    "\n",
    "print(Sys.time() - stopwatch) # print computation time\n",
    "\n",
    "\n",
    "## Histogram and average\n",
    "thist(testprobs, n=seq(0,1,length.out=10), plot=TRUE,\n",
    "      xlab='P(income = \"<=50K\")',\n",
    "      ylab='frequency density in test set',\n",
    "      main=paste0('accuracy: ', round(100*mean(testhits), 1), '%'))"
   ]
  },
  {
   "cell_type": "code",
   "execution_count": null,
   "id": "cc1e2764-7fc1-4bf7-bea9-703f65bceb97",
   "metadata": {
    "vscode": {
     "languageId": "r"
    }
   },
   "outputs": [],
   "source": [
    "# navn <- colnames(data)\n",
    "# navn <- navn[2:15]\n",
    "# print(length(navn))\n",
    "\n",
    "# i <- 1\n",
    "# j <- 2\n",
    "\n",
    "# result_list <- list()\n",
    "\n",
    "# while (i != 13) {\n",
    "#   while (j != 14) {\n",
    "\n",
    "#     probs <- infer(agent = opmall, predictand = c(\"class\", navn[i], navn[j]))\n",
    "#     result <- mutualinfo(probs = probs, A = \"class\", B = c(navn[i], navn[j]))\n",
    "\n",
    "#     result_list[[paste0(navn[i], \" & \", navn[j])]] <- result\n",
    "#     #print(paste0(signif(result, 4), ' Sh'))\n",
    "\n",
    "#     j <- j + 1\n",
    "#   }\n",
    "#   j <- i + 2\n",
    "#   i <- i + 1\n",
    "# }\n",
    "# sorted_result_list <- result_list[order(-unlist(result_list))]\n",
    "# sorted_result_list\n"
   ]
  }
 ],
 "metadata": {
  "kernelspec": {
   "display_name": "R",
   "language": "R",
   "name": "ir"
  },
  "language_info": {
   "codemirror_mode": "r",
   "file_extension": ".r",
   "mimetype": "text/x-r-source",
   "name": "R",
   "pygments_lexer": "r",
   "version": "4.3.1"
  }
 },
 "nbformat": 4,
 "nbformat_minor": 5
}
