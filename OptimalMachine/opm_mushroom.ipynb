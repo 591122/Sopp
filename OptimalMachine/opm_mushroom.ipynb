{
 "cells": [
  {
   "cell_type": "markdown",
   "id": "5e3762f4-0a64-4d7f-a12e-03b9bc779de7",
   "metadata": {},
   "source": [
    "# Optimal Predictor Machine used with Mushroom.csv"
   ]
  },
  {
   "cell_type": "markdown",
   "id": "62ac76e9-b3e0-43de-9c65-b99ff7b7b01e",
   "metadata": {},
   "source": [
    "Load required libraries and functions"
   ]
  },
  {
   "cell_type": "code",
   "execution_count": 1,
   "id": "f6490345-1334-4c63-955b-c634d0a80a6e",
   "metadata": {
    "vscode": {
     "languageId": "r"
    }
   },
   "outputs": [
    {
     "name": "stderr",
     "output_type": "stream",
     "text": [
      "Warning message in match.arg(palette, names(.schemes), several.ok = FALSE):\n",
      "\"strings not representable in native encoding will be translated to UTF-8\"\n"
     ]
    }
   ],
   "source": [
    "library('data.table')\n",
    "library('extraDistr')\n",
    "library('foreach')\n",
    "library('png')\n",
    "source('tplotfunctions.R')\n",
    "source('guessmetadata.R')\n",
    "source('buildagent.R')\n",
    "source('infer.R')\n",
    "source('decide.R')\n",
    "source('mutualinfo.R')\n",
    "source('rF.R')\n",
    "source('plotFsamples1D.R')\n",
    "options(repr.plot.width=10*sqrt(2), repr.plot.height=10)"
   ]
  },
  {
   "cell_type": "markdown",
   "id": "063ef988-57cd-4e25-aa37-a42e27627cab",
   "metadata": {},
   "source": [
    "## Changing the csv file to fit with optimal machine\n",
    "Here som changes are done to make sure that the optimal machine will run with the dataset. This includes limmiting the amount of data, as well as limmiting variates.\n",
    "\n"
   ]
  },
  {
   "cell_type": "code",
   "execution_count": 2,
   "metadata": {
    "vscode": {
     "languageId": "r"
    }
   },
   "outputs": [
    {
     "data": {
      "text/html": [
       "<table class=\"dataframe\">\n",
       "<caption>A data.frame: 6 x 15</caption>\n",
       "<thead>\n",
       "\t<tr><th></th><th scope=col>class</th><th scope=col>capShape</th><th scope=col>capSurface</th><th scope=col>capColor</th><th scope=col>bruises</th><th scope=col>odor</th><th scope=col>gillAttachment</th><th scope=col>gillSpacing</th><th scope=col>gillSize</th><th scope=col>gillSize.1</th><th scope=col>gillColor</th><th scope=col>stalkShape</th><th scope=col>stalkRoot</th><th scope=col>stalkSurfaceAboveRing</th><th scope=col>stalkSurfaceBelowRing</th></tr>\n",
       "\t<tr><th></th><th scope=col>&lt;chr&gt;</th><th scope=col>&lt;chr&gt;</th><th scope=col>&lt;chr&gt;</th><th scope=col>&lt;chr&gt;</th><th scope=col>&lt;chr&gt;</th><th scope=col>&lt;chr&gt;</th><th scope=col>&lt;chr&gt;</th><th scope=col>&lt;chr&gt;</th><th scope=col>&lt;chr&gt;</th><th scope=col>&lt;chr&gt;</th><th scope=col>&lt;chr&gt;</th><th scope=col>&lt;chr&gt;</th><th scope=col>&lt;chr&gt;</th><th scope=col>&lt;chr&gt;</th><th scope=col>&lt;chr&gt;</th></tr>\n",
       "</thead>\n",
       "<tbody>\n",
       "\t<tr><th scope=row>7400</th><td>p</td><td>k</td><td>y</td><td>e</td><td>f</td><td>y</td><td>f</td><td>c</td><td>n</td><td>n</td><td>b</td><td>t</td><td>?</td><td>s</td><td>k</td></tr>\n",
       "\t<tr><th scope=row>1610</th><td>e</td><td>x</td><td>s</td><td>n</td><td>f</td><td>n</td><td>f</td><td>w</td><td>b</td><td>b</td><td>k</td><td>t</td><td>e</td><td>f</td><td>f</td></tr>\n",
       "\t<tr><th scope=row>5639</th><td>e</td><td>k</td><td>s</td><td>e</td><td>t</td><td>n</td><td>f</td><td>c</td><td>b</td><td>b</td><td>e</td><td>e</td><td>?</td><td>s</td><td>s</td></tr>\n",
       "\t<tr><th scope=row>2194</th><td>e</td><td>x</td><td>y</td><td>e</td><td>t</td><td>n</td><td>f</td><td>c</td><td>b</td><td>b</td><td>u</td><td>t</td><td>b</td><td>s</td><td>s</td></tr>\n",
       "\t<tr><th scope=row>3411</th><td>e</td><td>f</td><td>f</td><td>n</td><td>t</td><td>n</td><td>f</td><td>c</td><td>b</td><td>b</td><td>u</td><td>t</td><td>b</td><td>s</td><td>s</td></tr>\n",
       "\t<tr><th scope=row>6725</th><td>p</td><td>x</td><td>y</td><td>e</td><td>f</td><td>s</td><td>f</td><td>c</td><td>n</td><td>n</td><td>b</td><td>t</td><td>?</td><td>s</td><td>k</td></tr>\n",
       "</tbody>\n",
       "</table>\n"
      ],
      "text/latex": [
       "A data.frame: 6 x 15\n",
       "\\begin{tabular}{r|lllllllllllllll}\n",
       "  & class & capShape & capSurface & capColor & bruises & odor & gillAttachment & gillSpacing & gillSize & gillSize.1 & gillColor & stalkShape & stalkRoot & stalkSurfaceAboveRing & stalkSurfaceBelowRing\\\\\n",
       "  & <chr> & <chr> & <chr> & <chr> & <chr> & <chr> & <chr> & <chr> & <chr> & <chr> & <chr> & <chr> & <chr> & <chr> & <chr>\\\\\n",
       "\\hline\n",
       "\t7400 & p & k & y & e & f & y & f & c & n & n & b & t & ? & s & k\\\\\n",
       "\t1610 & e & x & s & n & f & n & f & w & b & b & k & t & e & f & f\\\\\n",
       "\t5639 & e & k & s & e & t & n & f & c & b & b & e & e & ? & s & s\\\\\n",
       "\t2194 & e & x & y & e & t & n & f & c & b & b & u & t & b & s & s\\\\\n",
       "\t3411 & e & f & f & n & t & n & f & c & b & b & u & t & b & s & s\\\\\n",
       "\t6725 & p & x & y & e & f & s & f & c & n & n & b & t & ? & s & k\\\\\n",
       "\\end{tabular}\n"
      ],
      "text/markdown": [
       "\n",
       "A data.frame: 6 x 15\n",
       "\n",
       "| <!--/--> | class &lt;chr&gt; | capShape &lt;chr&gt; | capSurface &lt;chr&gt; | capColor &lt;chr&gt; | bruises &lt;chr&gt; | odor &lt;chr&gt; | gillAttachment &lt;chr&gt; | gillSpacing &lt;chr&gt; | gillSize &lt;chr&gt; | gillSize.1 &lt;chr&gt; | gillColor &lt;chr&gt; | stalkShape &lt;chr&gt; | stalkRoot &lt;chr&gt; | stalkSurfaceAboveRing &lt;chr&gt; | stalkSurfaceBelowRing &lt;chr&gt; |\n",
       "|---|---|---|---|---|---|---|---|---|---|---|---|---|---|---|---|\n",
       "| 7400 | p | k | y | e | f | y | f | c | n | n | b | t | ? | s | k |\n",
       "| 1610 | e | x | s | n | f | n | f | w | b | b | k | t | e | f | f |\n",
       "| 5639 | e | k | s | e | t | n | f | c | b | b | e | e | ? | s | s |\n",
       "| 2194 | e | x | y | e | t | n | f | c | b | b | u | t | b | s | s |\n",
       "| 3411 | e | f | f | n | t | n | f | c | b | b | u | t | b | s | s |\n",
       "| 6725 | p | x | y | e | f | s | f | c | n | n | b | t | ? | s | k |\n",
       "\n"
      ],
      "text/plain": [
       "     class capShape capSurface capColor bruises odor gillAttachment gillSpacing\n",
       "7400 p     k        y          e        f       y    f              c          \n",
       "1610 e     x        s          n        f       n    f              w          \n",
       "5639 e     k        s          e        t       n    f              c          \n",
       "2194 e     x        y          e        t       n    f              c          \n",
       "3411 e     f        f          n        t       n    f              c          \n",
       "6725 p     x        y          e        f       s    f              c          \n",
       "     gillSize gillSize.1 gillColor stalkShape stalkRoot stalkSurfaceAboveRing\n",
       "7400 n        n          b         t          ?         s                    \n",
       "1610 b        b          k         t          e         f                    \n",
       "5639 b        b          e         e          ?         s                    \n",
       "2194 b        b          u         t          b         s                    \n",
       "3411 b        b          u         t          b         s                    \n",
       "6725 n        n          b         t          ?         s                    \n",
       "     stalkSurfaceBelowRing\n",
       "7400 k                    \n",
       "1610 f                    \n",
       "5639 s                    \n",
       "2194 s                    \n",
       "3411 s                    \n",
       "6725 k                    "
      ]
     },
     "metadata": {},
     "output_type": "display_data"
    }
   ],
   "source": [
    "# Set the file path to your CSV file\n",
    "file_path <- \"../Datasett/mushrooms.csv\"\n",
    "\n",
    "# Set the full path for the output CSV file\n",
    "output_file_path <- \"../Datasett/modified_data.csv\"\n",
    "\n",
    "# Load the CSV file with comma as the separator and the first row as headers\n",
    "data <- read.csv(file_path, header = TRUE, sep = \",\")\n",
    "\n",
    "# Specify the columns to keep\n",
    "columns_to_keep <- c(\"class\", \"capShape\", \"capSurface\", \"capColor\", \"bruises\", \"odor\", \"gillAttachment\", \"gillSpacing\", \"gillSize\", \"gillSize\", \"gillColor\", \"stalkShape\", \"stalkRoot\", \"stalkSurfaceAboveRing\", \"stalkSurfaceBelowRing\")#, \"stalkColorAboveRing\", \"stalkColorBelowRing\",\"veilType\",\"veilColor\",\"ringNumber\",\"ringType\",\"sporePrintColor\",\"population\",\"habitat\")\n",
    "\n",
    "# Subset the data to keep only the selected columns\n",
    "data <- data[, columns_to_keep]\n",
    "\n",
    "# Set the number of random rows to select (e.g., 500)\n",
    "num_random_rows <- 1000\n",
    "\n",
    "# Check if the dataset has at least num_random_rows rows\n",
    "if (num_random_rows <= nrow(data)) {\n",
    "  # Randomly sample num_random_rows rows\n",
    "  random_rows <- sample(1:nrow(data), num_random_rows)\n",
    "\n",
    "  # Subset the data based on the randomly selected rows\n",
    "  data <- data[random_rows, ]\n",
    "\n",
    "  # Save the modified data as a CSV file with the specified full path\n",
    "  write.csv(data, file = output_file_path, row.names = FALSE)\n",
    "\n",
    "  # Print the first few rows to verify\n",
    "  head(data)\n",
    "} else {\n",
    "  cat(\"The dataset does not have enough rows for random sampling.\\n\")}\n"
   ]
  },
  {
   "cell_type": "markdown",
   "metadata": {},
   "source": [
    "Checking to see the amount of unique rows in the dataset."
   ]
  },
  {
   "cell_type": "code",
   "execution_count": 3,
   "metadata": {
    "vscode": {
     "languageId": "r"
    }
   },
   "outputs": [
    {
     "name": "stdout",
     "output_type": "stream",
     "text": [
      "[1] \"Number of unique rows: 513\"\n"
     ]
    }
   ],
   "source": [
    "# Assuming your data frame is named \"data\"\n",
    "unique_rows <- !duplicated(data)\n",
    "\n",
    "# Print the number of unique rows\n",
    "print(paste0(\"Number of unique rows: \", nrow(data[unique_rows,])))\n"
   ]
  },
  {
   "cell_type": "markdown",
   "metadata": {},
   "source": [
    "Creating matadatafile for the datasett. This tells us how many variates there are, as well as how many possible values each variate can have"
   ]
  },
  {
   "cell_type": "code",
   "execution_count": 4,
   "id": "b9836e7f-8196-4ec2-95d6-852a89a4240c",
   "metadata": {
    "vscode": {
     "languageId": "r"
    }
   },
   "outputs": [],
   "source": [
    "guessmetadata(data = '../Datasett/modified_data.csv',\n",
    "              file = \"../Datasett/preliminary.csv\")"
   ]
  },
  {
   "cell_type": "markdown",
   "id": "b969f8c1-2e8c-42c5-9a08-1e6d96aac406",
   "metadata": {},
   "source": [
    "## Building the agent\n",
    "\n",
    "is done with the function `buildagent()`, which takes as input the metadata and training data, and output an object of class \"agent\".\n",
    "\n",
    "In this exploration we build two agents:\n",
    "- `opm10`: trained with 10 datapoints\n",
    "- `opmall`: trained with all datapoints"
   ]
  },
  {
   "cell_type": "code",
   "execution_count": 5,
   "id": "5e695464-da0b-4212-bf83-82aec0dcf50b",
   "metadata": {
    "vscode": {
     "languageId": "r"
    }
   },
   "outputs": [],
   "source": [
    "#opm10 <- buildagent(metadata='meta_income_data_example.csv',\n",
    "#                    data=fread('train-income_data_example.csv', header=TRUE)[1:10])\n",
    "#\n",
    "#opmall <- buildagent(metadata='meta_income_data_example.csv',\n",
    "#                     data='train-income_data_example.csv')\n",
    "opm10 <- buildagent(metadata = \"../Datasett/preliminary.csv\",\n",
    "                     data = fread('../Datasett/modified_data.csv')[1:10])\n",
    "\n",
    "opmall <- buildagent(metadata = \"../Datasett/preliminary.csv\",\n",
    "                     data = fread('../Datasett/modified_data.csv'))"
   ]
  },
  {
   "cell_type": "markdown",
   "metadata": {},
   "source": [
    "Checking for how many total variates times the amount of data.????"
   ]
  },
  {
   "cell_type": "code",
   "execution_count": 6,
   "metadata": {
    "vscode": {
     "languageId": "r"
    }
   },
   "outputs": [
    {
     "data": {
      "text/html": [
       "149299200"
      ],
      "text/latex": [
       "149299200"
      ],
      "text/markdown": [
       "149299200"
      ],
      "text/plain": [
       "[1] 149299200"
      ]
     },
     "metadata": {},
     "output_type": "display_data"
    }
   ],
   "source": [
    "length(opmall$counts)"
   ]
  },
  {
   "cell_type": "markdown",
   "id": "40705e94-2d69-4993-95f8-ab123261ec52",
   "metadata": {},
   "source": [
    "You can check the internal structure of the \"agent\" object with `str()`:"
   ]
  },
  {
   "cell_type": "code",
   "execution_count": 7,
   "id": "1b8c8a5e-ac0f-48a6-87a0-cfa8498308c8",
   "metadata": {
    "vscode": {
     "languageId": "r"
    }
   },
   "outputs": [
    {
     "name": "stdout",
     "output_type": "stream",
     "text": [
      "List of 4\n",
      " $ counts   : num [1:2, 1:5, 1:3, 1:9, 1:2, 1:9, 1:2, 1:2, 1:2, 1:2, 1:12, 1:2, 1:5, 1:4, 1:4] 0 0 0 0 0 0 0 0 0 0 ...\n",
      "  ..- attr(*, \"dimnames\")=List of 15\n",
      "  .. ..$ class                : chr [1:2] \"e\" \"p\"\n",
      "  .. ..$ capShape             : chr [1:5] \"b\" \"f\" \"k\" \"s\" ...\n",
      "  .. ..$ capSurface           : chr [1:3] \"f\" \"s\" \"y\"\n",
      "  .. ..$ capColor             : chr [1:9] \"b\" \"c\" \"e\" \"g\" ...\n",
      "  .. ..$ bruises              : chr [1:2] \"f\" \"t\"\n",
      "  .. ..$ odor                 : chr [1:9] \"a\" \"c\" \"f\" \"l\" ...\n",
      "  .. ..$ gillAttachment       : chr [1:2] \"a\" \"f\"\n",
      "  .. ..$ gillSpacing          : chr [1:2] \"c\" \"w\"\n",
      "  .. ..$ gillSize             : chr [1:2] \"b\" \"n\"\n",
      "  .. ..$ gillSize.1           : chr [1:2] \"b\" \"n\"\n",
      "  .. ..$ gillColor            : chr [1:12] \"b\" \"e\" \"g\" \"h\" ...\n",
      "  .. ..$ stalkShape           : chr [1:2] \"e\" \"t\"\n",
      "  .. ..$ stalkRoot            : chr [1:5] \"?\" \"b\" \"c\" \"e\" ...\n",
      "  .. ..$ stalkSurfaceAboveRing: chr [1:4] \"f\" \"k\" \"s\" \"y\"\n",
      "  .. ..$ stalkSurfaceBelowRing: chr [1:4] \"f\" \"k\" \"s\" \"y\"\n",
      " $ alphas   : num [1:21] 1 2 4 8 16 32 64 128 256 512 ...\n",
      " $ auxalphas: num [1:21] -15247 -14898 -14554 -14220 -13900 ...\n",
      " $ palphas  : num [1:21] 0 0 0 0 0 ...\n",
      " - attr(*, \"class\")= chr [1:2] \"agent\" \"list\"\n"
     ]
    }
   ],
   "source": [
    "str(opmall)"
   ]
  },
  {
   "cell_type": "markdown",
   "id": "8d4ae791-65e4-4265-a2ed-144baaa464f4",
   "metadata": {},
   "source": [
    "The \"agent\" object internally contains a parameter `alpha` expressing its guess of how many training data (just as a order of magnitude in base-2) would be needed to make reliable inferences about the full population.\n",
    "\n",
    "Here are several guesses with their probabilities; you see that most probable is around 2000 training datapoints:"
   ]
  },
  {
   "cell_type": "code",
   "execution_count": 8,
   "id": "81c67ad8-f354-4e54-aec8-b0187df06c75",
   "metadata": {
    "vscode": {
     "languageId": "r"
    }
   },
   "outputs": [
    {
     "data": {
      "image/png": "[encoded data removed]",
      "text/plain": [
       "plot without title"
      ]
     },
     "metadata": {
      "image/png": {
       "height": 600,
       "width": 848.5281
      }
     },
     "output_type": "display_data"
    }
   ],
   "source": [
    "tplot(x=opmall$alphas, y=opmall$palphas, type='b',\n",
    "      xlim=c(0, 1000), ylim=c(0, NA),\n",
    "      xlab='amount of needed data for overcoming prior beliefs', ylab='probability')"
   ]
  },
  {
   "cell_type": "markdown",
   "id": "a169fb52-dd4a-43a0-9520-5271ce668261",
   "metadata": {},
   "source": [
    "## Only predictands, no predictors (\"unsupervised-learning mode\")"
   ]
  },
  {
   "cell_type": "markdown",
   "id": "d17ac823-90a7-43c8-90f0-a669199cc884",
   "metadata": {},
   "source": [
    "Let the little-trained agent forecast `income` for next unit"
   ]
  },
  {
   "cell_type": "code",
   "execution_count": 9,
   "id": "58d651ad-bc5b-440a-a016-a59f8ba52e82",
   "metadata": {
    "vscode": {
     "languageId": "r"
    }
   },
   "outputs": [
    {
     "name": "stderr",
     "output_type": "stream",
     "text": [
      "Discarding all predictands: none matches allowed ones\n",
      "\n"
     ]
    },
    {
     "ename": "ERROR",
     "evalue": "Error: vector memory exhausted (limit reached?)\n",
     "output_type": "error",
     "traceback": [
      "Error: vector memory exhausted (limit reached?)\nTraceback:\n",
      "1. print(infer(agent = opm10, predictand = \"Na\"))",
      "2. infer(agent = opm10, predictand = \"Na\")",
      "3. outer(alphas, counts, `+`)"
     ]
    }
   ],
   "source": [
    "print(infer(agent=opm10, predictand='Na'))"
   ]
  },
  {
   "cell_type": "markdown",
   "id": "f189a33e-7de6-46b9-8f9a-4f1088214b3d",
   "metadata": {},
   "source": [
    "The agent is internally checking *all possible* population-frequency distributions. It can therefore forecast how its probabilities could change *if more training data were provided*:"
   ]
  },
  {
   "cell_type": "code",
   "execution_count": null,
   "id": "bfb5fd17-c9b1-479a-8c53-987a83ceeef6",
   "metadata": {
    "vscode": {
     "languageId": "r"
    }
   },
   "outputs": [],
   "source": [
    "plotFsamples1D(agent=opm10, n=600, predictand='class',\n",
    "               ylim=c(0,1), main='opm10') # last options are for plotting"
   ]
  },
  {
   "cell_type": "markdown",
   "id": "ed3f2e92-178f-4012-a97c-3520f1a6cd41",
   "metadata": {},
   "source": [
    "Now let's check the inference drawn by the fully-trained agent"
   ]
  },
  {
   "cell_type": "code",
   "execution_count": null,
   "id": "026f5c50-107c-48fe-ba01-ca01a3ab1da0",
   "metadata": {
    "vscode": {
     "languageId": "r"
    }
   },
   "outputs": [],
   "source": [
    "print(infer(agent=opmall, predictand='class'))"
   ]
  },
  {
   "cell_type": "markdown",
   "id": "e631df4f-db36-4a19-a8c0-9b3d2ed5b7b3",
   "metadata": {},
   "source": [
    "Also this agent can tell us how much would new training data change its inference:"
   ]
  },
  {
   "cell_type": "code",
   "execution_count": null,
   "id": "00bbd63a-485d-4b4e-8a19-916e72097bbe",
   "metadata": {
    "vscode": {
     "languageId": "r"
    }
   },
   "outputs": [],
   "source": [
    "plotFsamples1D(agent=opmall, n=600, predictand='class',\n",
    "               ylim=c(0,1), main='opmall')"
   ]
  },
  {
   "cell_type": "markdown",
   "id": "97aff833-7674-4213-b5e5-44f927e26a14",
   "metadata": {},
   "source": [
    "We can draw inferences in the same way for any other variate, e.g. `capColor`.\n",
    "\n",
    "This is the inference by the `opm10` agent:"
   ]
  },
  {
   "cell_type": "code",
   "execution_count": null,
   "id": "b0daee55-1e49-491f-9358-1b447f3009db",
   "metadata": {
    "vscode": {
     "languageId": "r"
    }
   },
   "outputs": [],
   "source": [
    "plotFsamples1D(agent=opm10, n=600, predictand='capColor',\n",
    "               ylim=c(0,1), main='opm10')  # last options are for plotting"
   ]
  },
  {
   "cell_type": "markdown",
   "id": "b87ae405-4e37-4f8c-bae3-00e04a5a02e2",
   "metadata": {},
   "source": [
    "...and by the `opmall` agent:"
   ]
  },
  {
   "cell_type": "code",
   "execution_count": null,
   "id": "3c8c30b3-d811-4fbc-b834-8c88c23ad7b3",
   "metadata": {
    "vscode": {
     "languageId": "r"
    }
   },
   "outputs": [],
   "source": [
    "plotFsamples1D(agent=opmall, n=600, predictand='capColor',\n",
    "               ylim=c(0,1), main='opmall')  # last options are for plotting"
   ]
  },
  {
   "cell_type": "markdown",
   "id": "772baeaf-a5d3-4f69-a22d-e123079f6aee",
   "metadata": {},
   "source": [
    "The agent can also draw inferences about several joint variates.\n",
    "\n",
    "For instance `class` and `capColor` (let's show percentages and round to one decimal):"
   ]
  },
  {
   "cell_type": "code",
   "execution_count": null,
   "id": "c6a505ef-f568-44e7-a045-183a1b385a6e",
   "metadata": {
    "vscode": {
     "languageId": "r"
    }
   },
   "outputs": [],
   "source": [
    "result <- infer(agent=opmall, predictand=c('class', 'capColor'))\n",
    "\n",
    "print(round(result*100, 1))"
   ]
  },
  {
   "cell_type": "markdown",
   "id": "bee0efb5-8bb5-4bb3-a8d7-8aa77d0e2f1d",
   "metadata": {},
   "source": [
    "\n",
    "## Using predictors (\"supervised-learning mode\")"
   ]
  },
  {
   "cell_type": "markdown",
   "id": "6995edc7-8b07-44d2-8b25-0c6754a7ff6d",
   "metadata": {},
   "source": [
    "Suppose we know that `capSurface='y'` and `capColor='f'` for the new unit. What can the `class` be?"
   ]
  },
  {
   "cell_type": "code",
   "execution_count": null,
   "id": "7073ce9f-8665-427b-85d2-4727138394b0",
   "metadata": {
    "vscode": {
     "languageId": "r"
    }
   },
   "outputs": [],
   "source": [
    "\n",
    "result <- infer(\n",
    "    agent = opmall, predictand = \"class\",\n",
    "    predictor = list(capShape = \"f\", capSurface = \"y\", capColor = \"n\", gillAttachment = \"f\", gillSpacing = \"c\", gillSize = \"b\")\n",
    ")\n",
    "\n",
    "print(round(result * 100, 1))\n"
   ]
  },
  {
   "cell_type": "markdown",
   "id": "d623f521-7eff-4830-be9e-4f30e04f648e",
   "metadata": {},
   "source": [
    "Also in this case we can ask how much this inference could be changed by new training data.\n",
    "\n",
    "Note how the agent warns us that, with more training data, it could happen that the percentages would be reversed – observe the gray lines:"
   ]
  },
  {
   "cell_type": "code",
   "execution_count": null,
   "id": "2fbc5697-9ffe-48a1-b272-a475ce122257",
   "metadata": {
    "vscode": {
     "languageId": "r"
    }
   },
   "outputs": [],
   "source": [
    "plotFsamples1D(agent=opmall, n=600,\n",
    "               predictand='class',\n",
    "               predictor=list(capSurface = \"y\", capColor = \"p\"),\n",
    "               ylim=c(0,1), main='opmall')"
   ]
  },
  {
   "cell_type": "markdown",
   "id": "135b757c-2139-4d27-a06a-2065fb21d879",
   "metadata": {},
   "source": [
    "Another example: what's the probability for the possible `class`, if we know the present mushroom has  `capSurface = Black` and `capColor = p`?"
   ]
  },
  {
   "cell_type": "code",
   "execution_count": null,
   "id": "a26b04f6-64c5-4d0d-a46e-c3e0d0d80a7e",
   "metadata": {
    "vscode": {
     "languageId": "r"
    }
   },
   "outputs": [],
   "source": [
    "result <- infer(agent=opmall,\n",
    "                predictand='class',\n",
    "                predictor=list(capSurface = \"y\", capColor = \"p\"))\n",
    "\n",
    "print(round(sort(result, decreasing=TRUE) * 100, 1))\n",
    "\n",
    "plotFsamples1D(agent=opmall, n=500,\n",
    "               predictand='class',\n",
    "               predictor=list(capSurface = \"y\", capColor = \"p\"),\n",
    "              ylim=c(0,NA), cex.axis=0.75)"
   ]
  },
  {
   "cell_type": "markdown",
   "id": "b141c7fd-1b10-4a0f-a3ec-0a9a32c1311d",
   "metadata": {},
   "source": [
    "## Inverting predictors and predictands (\"generative mode\")"
   ]
  },
  {
   "cell_type": "markdown",
   "id": "6ed71e96-cc43-497e-9772-993cc2e16d88",
   "metadata": {},
   "source": [
    "We can also infer `occupation` and `sex` given any value of `income`"
   ]
  },
  {
   "cell_type": "code",
   "execution_count": null,
   "id": "e770753e-2da4-406d-bb71-95654462fa40",
   "metadata": {
    "vscode": {
     "languageId": "r"
    }
   },
   "outputs": [],
   "source": [
    "result <- infer(agent=opmall, predictand=c('capSurface', 'capColor'),\n",
    "                predictor=list(class='e'))\n",
    "\n",
    "print('e = edible')\n",
    "print(round(result * 100, 2))\n",
    "\n",
    "cat('\\n\\n') # some newlines\n",
    "\n",
    "\n",
    "result <- infer(agent=opmall, predictand=c('capSurface', 'capColor'),\n",
    "                predictor=list(class='p'))\n",
    "\n",
    "print('p = poisonus')\n",
    "print(round(result * 100, 2))"
   ]
  },
  {
   "cell_type": "markdown",
   "id": "854d3376-6745-4467-8f44-96b29ec21898",
   "metadata": {},
   "source": [
    "----\n",
    "\n",
    "## The `rF()` function\n",
    "\n",
    "This function generates **full-population** frequency distributions (even for subpopulations) that are probable according to the data.\n",
    "\n",
    "For instance, let's see three samples of how the full-population frequency distribution for `sex` and `income` (jointly) could be:"
   ]
  },
  {
   "cell_type": "code",
   "execution_count": null,
   "id": "a748b332-0da0-4b9c-8481-55b3be923c58",
   "metadata": {
    "vscode": {
     "languageId": "r"
    }
   },
   "outputs": [],
   "source": [
    "result <- rF(agent=opmall, n=3, predictand=c('capSurface', 'capColor'))\n",
    "\n",
    "print(aperm(result) * 100) # permutation so that the samples are the last array dimension"
   ]
  },
  {
   "cell_type": "markdown",
   "id": "bf9a2340-c514-4b12-88ba-184410a16d2d",
   "metadata": {},
   "source": [
    "These possible full-population frequency distributions can be used to assess how much the probabilities we find could change, if we collected a much, much larger amount of training data.\n",
    "\n",
    "In the example below, we generate 1000 frequency distributions for `occupation` & `sex` given `income == >50K`, and then take the standard deviations of the samples as a rough measure of how much the probabilities we calculated a couple of cells above could change:"
   ]
  },
  {
   "cell_type": "code",
   "execution_count": null,
   "id": "0e7b7a83-bd01-4c8a-85ad-43060e962101",
   "metadata": {
    "vscode": {
     "languageId": "r"
    }
   },
   "outputs": [],
   "source": [
    "freqsamples <- rF(n=1000, agent=opmall, predictand=c('capSurface', 'capColor'),\n",
    "                  predictor=list(class='e'))\n",
    "\n",
    "variability <- apply(freqsamples,\n",
    "                     c('capSurface', 'capColor'), # which dimensions to apply\n",
    "                     sd) # function to apply to those dimensions\n",
    "\n",
    "print(round(variability * 100, 2)) # round to two decimals"
   ]
  },
  {
   "cell_type": "markdown",
   "id": "a7ae41c1-2ea6-4ba7-97cf-f24bdf19bec7",
   "metadata": {},
   "source": [
    "----\n",
    "\n",
    "## Calculating relevance of predictors\n",
    "\n",
    "The agent can calculate the mutual information (measured in shannons) between any two sets of variates `A` and `B` of our choice, with the function `mutualinfo(probs, A, B)`. The joint probabilities for `(A,B)` must first be calculated with `infer()`.\n",
    "\n",
    "For instance, what is the mutual information between `occupation` and `marital status`? The mutual information in this case can be anywhere between 0 Sh and 1 Sh \n",
    "\n",
    "(We print the result with 4 significant digits)"
   ]
  },
  {
   "cell_type": "code",
   "execution_count": null,
   "id": "8eae9957-44f1-429c-a058-58bf0b87f862",
   "metadata": {
    "vscode": {
     "languageId": "r"
    }
   },
   "outputs": [],
   "source": [
    "probs <- infer(agent=opmall, predictand=c('class', 'capSurface', 'capColor'))\n",
    "\n",
    "result <- mutualinfo(probs=probs, A='class', B=c('capSurface', 'capColor'))\n",
    "\n",
    "print(paste0(signif(result, 4), ' Sh'))"
   ]
  },
  {
   "cell_type": "markdown",
   "id": "06995500-b864-4eaf-85ea-fef3e74643c5",
   "metadata": {},
   "source": [
    "Let’s consider a scenario where, in order to save resources, we can use *only one* variate in order to infer the income. Which of the other variates should we prefer?\n",
    "\n",
    "We can calculate the mutual information between each of them and `income`:"
   ]
  },
  {
   "cell_type": "code",
   "execution_count": null,
   "id": "a2d49bcd-b75e-4681-b11f-b0ee59c33c6d",
   "metadata": {
    "vscode": {
     "languageId": "r"
    }
   },
   "outputs": [],
   "source": [
    "## list of all variates\n",
    "variates <- names(dimnames(opmall$counts))\n",
    "\n",
    "## list of all variates except 'income'\n",
    "predictors <- variates[variates != 'class']\n",
    "\n",
    "## prepare vector to contain the mutual information between each of these possible variates and 'income'\n",
    "relevances <- numeric(length(predictors))\n",
    "names(relevances) <- predictors\n",
    "\n",
    "## calculate joint probability and then mutual information (shannons)\n",
    "## of 'income' and another variate\n",
    "for(var in predictors){\n",
    "    probs <- infer(agent=opmall, predictand=c('class',var)) # calculation of joint probabilities\n",
    "    relevances[var] <- mutualinfo(probs=probs, A='class', B=var) # calculation of mutual information\n",
    "}\n",
    "\n",
    "## output the mutual informations in decreasing order\n",
    "print(round(sort(relevances, decreasing=TRUE), 4))"
   ]
  },
  {
   "cell_type": "markdown",
   "id": "a3b05efa-2c37-4600-a4d7-d91b1a100875",
   "metadata": {},
   "source": [
    "The most informative *single* predictor is `marital_status`, the least informative is `race`."
   ]
  },
  {
   "cell_type": "markdown",
   "id": "79cf117d-f3bc-484b-9c79-c3af5eea39c0",
   "metadata": {},
   "source": [
    "----\n",
    "\n",
    "# Exercise\n",
    "\n",
    "Now consider the scenario where we must *exclude one variate* from the eight predictors, or, equivalently, we can only use seven variates as predictors. Which variate should we exclude?\n",
    "\n",
    "Prepare a script similar to the one above: it should calculate the mutual information between `income` and the other predictors but with one omitted, omitting each of the eight predictors in turn.\n",
    "\n",
    "- Which single variate should not be omitted from the predictors? which single variate could be dropped?\n",
    "\n",
    "- Do you obtain the same relevance ranking as in the “use-one-variate-only” scenario above?\n",
    "\n",
    "**WARNING:** this computation could even take 10 min or more!\n",
    "\n",
    "----\n"
   ]
  },
  {
   "cell_type": "code",
   "execution_count": null,
   "id": "1bd17982-49b1-46ab-8d19-374f255a1c3e",
   "metadata": {
    "vscode": {
     "languageId": "r"
    }
   },
   "outputs": [],
   "source": []
  },
  {
   "cell_type": "markdown",
   "id": "35569d32-4521-4a2e-8bce-9b3945b0f12a",
   "metadata": {},
   "source": [
    "## Making decisions\n",
    "\n",
    "The agent can make decisions with an arbitrary set of available choices and utilities. The function `decide()` is used for this. It takes as input the probabilities of the uncertain variate, which must first be calculated with `infer()`, and the utilities.\n",
    "\n",
    "As an example, let's imagine that a bank has three loan options `loan_A`, `loan_B`, `loan_C` which yield different utilities depending on the person's income, which however is unknown (unrealistic, I know; but imagine it's the income in ten years).\n",
    "\n",
    "Let's build the utility matrix first:"
   ]
  },
  {
   "cell_type": "code",
   "execution_count": null,
   "id": "0abeda56-c897-4080-b102-55a3b2d0dc8a",
   "metadata": {
    "vscode": {
     "languageId": "r"
    }
   },
   "outputs": [],
   "source": [
    "## Warning: in R, matrices are filled column-wise: column 1 first, then column 2, then column 3, and so on\n",
    "loanutilities <- matrix(c(-4,-1,0, 0,-1,-4), nrow=3, ncol=2, \n",
    "                  dimnames=list(loan=c('loan_A','loan_B','loan_C'), income=c('<=50K','>50K')))\n",
    "\n",
    "print(loanutilities)"
   ]
  },
  {
   "cell_type": "markdown",
   "id": "6d2ebfdb-fae6-4a64-9523-e75a3a489bd3",
   "metadata": {},
   "source": [
    "Now a `race='Black'`, `sex='Female'` person with `occupation='Sales'` asks for a loan. What should the bank decide?\n",
    "\n",
    "We let the `opmall`-agent calculate the probabilities, and then make the optimal decision:"
   ]
  },
  {
   "cell_type": "code",
   "execution_count": null,
   "id": "a749073e-74b1-4ea5-812b-4728f1be1a9d",
   "metadata": {
    "vscode": {
     "languageId": "r"
    }
   },
   "outputs": [],
   "source": [
    "incomeprobs <- infer(agent=opmall, predictand='income', predictor=list(race='Black', sex='Female', occupation='Sales'))\n",
    "\n",
    "optimalchoice <- decide(probs=incomeprobs, utils=loanutilities)\n",
    "\n",
    "print(incomeprobs)\n",
    "cat('\\n')\n",
    "print(optimalchoice)              "
   ]
  },
  {
   "cell_type": "markdown",
   "id": "d05ddc68-38c0-435e-9e26-d6352e755409",
   "metadata": {},
   "source": [
    "Another customer comes in: a `race='White'`, `sex='Male'` person with `occupation='Exec-managerial'`. What's the optimal loan type for this customer?"
   ]
  },
  {
   "cell_type": "code",
   "execution_count": null,
   "id": "aeeb1a9e-8732-484d-89c0-e5ca14986502",
   "metadata": {
    "vscode": {
     "languageId": "r"
    }
   },
   "outputs": [],
   "source": [
    "incomeprobs <- infer(agent=opmall, predictand='income', predictor=list(race='White', sex='Male', occupation='Exec-managerial'))\n",
    "\n",
    "optimalchoice <- decide(probs=incomeprobs, utils=loanutilities)\n",
    "\n",
    "print(incomeprobs)\n",
    "cat('\\n')\n",
    "print(optimalchoice)"
   ]
  },
  {
   "cell_type": "code",
   "execution_count": null,
   "id": "24ecd9e1-4a12-46c9-b822-67f3aa5cff7b",
   "metadata": {
    "vscode": {
     "languageId": "r"
    }
   },
   "outputs": [],
   "source": []
  },
  {
   "cell_type": "code",
   "execution_count": null,
   "id": "a8f44b65-030f-41ad-b44c-7e708cfc32e3",
   "metadata": {
    "vscode": {
     "languageId": "r"
    }
   },
   "outputs": [],
   "source": []
  },
  {
   "cell_type": "code",
   "execution_count": null,
   "id": "f877927a-3d13-4c37-86f1-14a582f73c7d",
   "metadata": {
    "vscode": {
     "languageId": "r"
    }
   },
   "outputs": [],
   "source": [
    "testdata <- fread('test-income_data_example.csv', header=TRUE) # read test data\n",
    "ntest <- nrow(testdata) # number of test data\n",
    "\n",
    "testprobs <- numeric(ntest) # prepare vector of probabilities\n",
    "testhits <- numeric(ntest) # prepare vector of hits\n",
    "\n",
    "stopwatch <- Sys.time() # record time\n",
    "\n",
    "for(i in 1:ntest){\n",
    "    ## calculate probabilities given all variates except 'income'\n",
    "    probs <- infer(agent=opmall, predictor=testdata[i, !'income'])\n",
    "\n",
    "    ## store the probability for <=50K\n",
    "    testprobs[i] <- probs['<=50K']\n",
    "\n",
    "    ## decide on one value, check if decision == true_value, and store result\n",
    "    chosenvalue <- decide(probs=probs)\n",
    "\n",
    "    testhits[i] <- (chosenvalue == testdata[i, 'income'])\n",
    "}\n",
    "\n",
    "print(Sys.time() - stopwatch) # print computation time\n",
    "\n",
    "\n",
    "## Histogram and average\n",
    "thist(testprobs, n=seq(0,1,length.out=10), plot=TRUE,\n",
    "      xlab='P(income = \"<=50K\")',\n",
    "      ylab='frequency density in test set',\n",
    "      main=paste0('accuracy: ', round(100*mean(testhits), 1), '%'))"
   ]
  },
  {
   "cell_type": "code",
   "execution_count": null,
   "id": "cc1e2764-7fc1-4bf7-bea9-703f65bceb97",
   "metadata": {
    "vscode": {
     "languageId": "r"
    }
   },
   "outputs": [],
   "source": []
  }
 ],
 "metadata": {
  "kernelspec": {
   "display_name": "R",
   "language": "R",
   "name": "ir"
  },
  "language_info": {
   "codemirror_mode": "r",
   "file_extension": ".r",
   "mimetype": "text/x-r-source",
   "name": "R",
   "pygments_lexer": "r",
   "version": "4.3.1"
  }
 },
 "nbformat": 4,
 "nbformat_minor": 5
}
