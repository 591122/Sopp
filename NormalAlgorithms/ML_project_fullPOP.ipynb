{
 "cells": [
  {
   "cell_type": "markdown",
   "metadata": {},
   "source": [
    "# ML Project"
   ]
  },
  {
   "cell_type": "code",
   "execution_count": 1,
   "metadata": {},
   "outputs": [],
   "source": [
    "import pandas as pd\n",
    "import numpy as np\n",
    "import seaborn as sns\n",
    "import matplotlib.pyplot as plt\n",
    "import torch\n",
    "import torch.nn as nn\n",
    "import torch.optim as optim\n",
    "from torch.utils.data import Dataset, DataLoader, TensorDataset\n",
    "from sklearn.model_selection import train_test_split, cross_val_score\n",
    "from sklearn.preprocessing import StandardScaler\n",
    "from sklearn.metrics import confusion_matrix\n",
    "from sklearn.dummy import DummyClassifier\n",
    "import random\n",
    "import metoder\n",
    "import pandas as pd\n",
    "\n",
    "\n"
   ]
  },
  {
   "cell_type": "markdown",
   "metadata": {},
   "source": [
    "Importing dataset:"
   ]
  },
  {
   "cell_type": "code",
   "execution_count": 2,
   "metadata": {},
   "outputs": [
    {
     "name": "stdout",
     "output_type": "stream",
     "text": [
      "object\n",
      "<class 'pandas.core.frame.DataFrame'>\n",
      "RangeIndex: 8124 entries, 0 to 8123\n",
      "Data columns (total 23 columns):\n",
      " #   Column                 Non-Null Count  Dtype \n",
      "---  ------                 --------------  ----- \n",
      " 0   class                  8124 non-null   object\n",
      " 1   capShape               8124 non-null   object\n",
      " 2   capSurface             8124 non-null   object\n",
      " 3   capColor               8124 non-null   object\n",
      " 4   bruises                8124 non-null   object\n",
      " 5   odor                   8124 non-null   object\n",
      " 6   gillAttachment         8124 non-null   object\n",
      " 7   gillSpacing            8124 non-null   object\n",
      " 8   gillSize               8124 non-null   object\n",
      " 9   gillColor              8124 non-null   object\n",
      " 10  stalkShape             8124 non-null   object\n",
      " 11  stalkRoot              8124 non-null   object\n",
      " 12  stalkSurfaceAboveRing  8124 non-null   object\n",
      " 13  stalkSurfaceBelowRing  8124 non-null   object\n",
      " 14  stalkColorAboveRing    8124 non-null   object\n",
      " 15  stalkColorBelowRing    8124 non-null   object\n",
      " 16  veilType               8124 non-null   object\n",
      " 17  veilColor              8124 non-null   object\n",
      " 18  ringNumber             8124 non-null   object\n",
      " 19  ringType               8124 non-null   object\n",
      " 20  sporePrintColor        8124 non-null   object\n",
      " 21  population             8124 non-null   object\n",
      " 22  habitat                8124 non-null   object\n",
      "dtypes: object(23)\n",
      "memory usage: 1.4+ MB\n"
     ]
    }
   ],
   "source": [
    "#path:\n",
    "#file_path = r\"C:\\Users\\vikto\\Documents\\Skole\\Datadrevne_systemer\\ML_Project\\glass_data-4_lev.csv\"\n",
    "file_path_training = \"../Datasett/train_set.csv\"\n",
    "file_path_test = \"../Datasett/test_set.csv\"\n",
    "file_path_total_set =   \"../Datasett/mushrooms.csv\"\n",
    "#importing file and print how the structure of data were inported. \n",
    "df_training = pd.read_csv(file_path_training)\n",
    "df_test = pd.read_csv(file_path_test)\n",
    "df_total = pd.read_csv(file_path_total_set)\n",
    "\n",
    "\n",
    "\n",
    "#drop ID number\n",
    "#df = df.drop(columns=['Id'])\n",
    "\n",
    "print(df_total['class'].dtype)\n",
    "df_total.info()"
   ]
  },
  {
   "cell_type": "markdown",
   "metadata": {},
   "source": [
    "### Small exploration of data:"
   ]
  },
  {
   "cell_type": "code",
   "execution_count": 3,
   "metadata": {},
   "outputs": [
    {
     "name": "stdout",
     "output_type": "stream",
     "text": [
      "Number of unique rows: 8124\n"
     ]
    }
   ],
   "source": [
    "# Check the number of unique rows in the DataFrame\n",
    "num_unique_rows = df_total.drop_duplicates().shape[0]\n",
    "\n",
    "# Print the result\n",
    "print(\"Number of unique rows:\", num_unique_rows)"
   ]
  },
  {
   "cell_type": "markdown",
   "metadata": {},
   "source": [
    "The data set clearly shows that T1, T2 is most frequently. "
   ]
  },
  {
   "cell_type": "code",
   "execution_count": 4,
   "metadata": {},
   "outputs": [
    {
     "data": {
      "image/png": "[encoded data removed]",
      "text/plain": [
       "<Figure size 640x480 with 1 Axes>"
      ]
     },
     "metadata": {},
     "output_type": "display_data"
    }
   ],
   "source": [
    "# Create a histogram of age with hue for income\n",
    "sns.histplot(data=df_total, x='capShape', hue='class', multiple='stack', palette='pastel')\n",
    "\n",
    "# Add labels and title\n",
    "plt.xlabel('cap shape')\n",
    "plt.ylabel('Frequency')\n",
    "plt.title('cap shape Distribution by class')\n",
    "\n",
    "# Show the plot\n",
    "plt.show()"
   ]
  },
  {
   "cell_type": "code",
   "execution_count": 5,
   "metadata": {},
   "outputs": [],
   "source": [
    "#for col in df.columns[:-1]:  # Exclude the 'Type' column\n",
    " #   sns.boxplot(x='Type', y=col, data=df)\n",
    "  #  plt.show()"
   ]
  },
  {
   "cell_type": "markdown",
   "metadata": {},
   "source": [
    "One-hot encoding to ensure the best result"
   ]
  },
  {
   "cell_type": "code",
   "execution_count": 6,
   "metadata": {},
   "outputs": [],
   "source": [
    "# Perform one-hot encoding for all categorical columns except the \"class\" column\n",
    "# Perform one-hot encoding for all categorical columns except the \"class\" column\n",
    "df_train_encoded = pd.get_dummies(df_training, columns=[\"capShape\", \"capSurface\", \"capColor\", \"bruises\", \"odor\", \"gillAttachment\", \"gillSpacing\", \"gillSize\", \"gillColor\", \"stalkShape\", \"stalkRoot\", \"stalkSurfaceAboveRing\", \"stalkSurfaceBelowRing\", \"stalkColorAboveRing\", \"stalkColorBelowRing\", \"veilType\", \"veilColor\", \"ringNumber\", \"ringType\", \"sporePrintColor\", \"population\", \"habitat\"])\n",
    "df_test_encoded = pd.get_dummies(df_test, columns=[\"capShape\", \"capSurface\", \"capColor\", \"bruises\", \"odor\", \"gillAttachment\", \"gillSpacing\", \"gillSize\", \"gillColor\", \"stalkShape\", \"stalkRoot\", \"stalkSurfaceAboveRing\", \"stalkSurfaceBelowRing\", \"stalkColorAboveRing\", \"stalkColorBelowRing\", \"veilType\", \"veilColor\", \"ringNumber\", \"ringType\", \"sporePrintColor\", \"population\", \"habitat\"])\n",
    "\n",
    "# Replace \"p\" with 1 and \"e\" with 0 in the \"class\" column in the df_training and df_test DataFrames\n",
    "df_train_encoded['class'] = df_train_encoded['class'].apply(lambda x: 1 if x == 'p' else 0)\n",
    "df_test_encoded['class'] = df_test_encoded['class'].apply(lambda x: 1 if x == 'p' else 0)\n",
    "\n",
    "# Splitting into features (X) and target variable (y)\n",
    "X_train, y_train = df_train_encoded.drop(['class'], axis=1), df_train_encoded['class']\n",
    "X_test, y_test = df_test_encoded.drop(['class'], axis=1), df_test_encoded['class']\n",
    "\n",
    "\n"
   ]
  },
  {
   "cell_type": "markdown",
   "metadata": {},
   "source": [
    "### Make a neural network:"
   ]
  },
  {
   "cell_type": "markdown",
   "metadata": {},
   "source": [
    "Split data to training and validation and Scale the data: "
   ]
  },
  {
   "cell_type": "code",
   "execution_count": null,
   "metadata": {},
   "outputs": [],
   "source": []
  },
  {
   "cell_type": "markdown",
   "metadata": {},
   "source": [
    "Create pytorch model:"
   ]
  },
  {
   "cell_type": "code",
   "execution_count": null,
   "metadata": {},
   "outputs": [],
   "source": []
  },
  {
   "cell_type": "markdown",
   "metadata": {},
   "source": [
    "Evaluate model:"
   ]
  },
  {
   "cell_type": "code",
   "execution_count": 9,
   "metadata": {},
   "outputs": [],
   "source": [
    "# Results storage as a dictionary\n",
    "results = {}"
   ]
  },
  {
   "cell_type": "code",
   "execution_count": 10,
   "metadata": {},
   "outputs": [],
   "source": [
    "# Call each function and store the results\n",
    "accuracy, confusion_matrix = metoder.randomforest(X_train, X_test, y_train, y_test)\n",
    "results['randomforest'] = {'accuracy': accuracy, 'confusion_matrix': confusion_matrix}"
   ]
  },
  {
   "cell_type": "code",
   "execution_count": 11,
   "metadata": {},
   "outputs": [],
   "source": [
    "accuracy, confusion_matrix = metoder.gradientboost(X_train, X_test, y_train, y_test)\n",
    "results['gradientboost'] = {'accuracy': accuracy, 'confusion_matrix': confusion_matrix}"
   ]
  },
  {
   "cell_type": "code",
   "execution_count": 12,
   "metadata": {},
   "outputs": [
    {
     "ename": "LinAlgError",
     "evalue": "SVD did not converge in Linear Least Squares",
     "output_type": "error",
     "traceback": [
      "\u001b[1;31m---------------------------------------------------------------------------\u001b[0m",
      "\u001b[1;31mLinAlgError\u001b[0m                               Traceback (most recent call last)",
      "\u001b[1;32mc:\\Users\\vikto\\OneDrive - Høgskulen på Vestlandet\\Documents\\Programming\\Python codes\\datadriven_system\\Prosjekt_SOPP\\NormalAlgorithms\\ML_project_fullPOP.ipynb Cell 21\u001b[0m line \u001b[0;36m1\n\u001b[1;32m----> <a href='vscode-notebook-cell:/c%3A/Users/vikto/OneDrive%20-%20H%C3%B8gskulen%20p%C3%A5%20Vestlandet/Documents/Programming/Python%20codes/datadriven_system/Prosjekt_SOPP/NormalAlgorithms/ML_project_fullPOP.ipynb#X32sZmlsZQ%3D%3D?line=0'>1</a>\u001b[0m accuracy, confusion_matrix \u001b[39m=\u001b[39m metoder\u001b[39m.\u001b[39;49mlinearregression(X_train, X_test, y_train, y_test)\n\u001b[0;32m      <a href='vscode-notebook-cell:/c%3A/Users/vikto/OneDrive%20-%20H%C3%B8gskulen%20p%C3%A5%20Vestlandet/Documents/Programming/Python%20codes/datadriven_system/Prosjekt_SOPP/NormalAlgorithms/ML_project_fullPOP.ipynb#X32sZmlsZQ%3D%3D?line=1'>2</a>\u001b[0m results[\u001b[39m'\u001b[39m\u001b[39mlinearregression\u001b[39m\u001b[39m'\u001b[39m] \u001b[39m=\u001b[39m {\u001b[39m'\u001b[39m\u001b[39maccuracy\u001b[39m\u001b[39m'\u001b[39m: accuracy, \u001b[39m'\u001b[39m\u001b[39mconfusion_matrix\u001b[39m\u001b[39m'\u001b[39m: confusion_matrix}\n",
      "File \u001b[1;32mc:\\Users\\vikto\\OneDrive - Høgskulen på Vestlandet\\Documents\\Programming\\Python codes\\datadriven_system\\Prosjekt_SOPP\\NormalAlgorithms\\metoder.py:46\u001b[0m, in \u001b[0;36mlinearregression\u001b[1;34m(X_train, X_test, y_train, y_test)\u001b[0m\n\u001b[0;32m     43\u001b[0m \u001b[39mdef\u001b[39;00m \u001b[39mlinearregression\u001b[39m(X_train, X_test, y_train, y_test):\n\u001b[0;32m     44\u001b[0m     \u001b[39m# Import and train a machine learning model\u001b[39;00m\n\u001b[0;32m     45\u001b[0m     rf \u001b[39m=\u001b[39m LinearRegression()\n\u001b[1;32m---> 46\u001b[0m     rf\u001b[39m.\u001b[39;49mfit(X_train, y_train)\n\u001b[0;32m     48\u001b[0m     \u001b[39m# Predict on the test data\u001b[39;00m\n\u001b[0;32m     49\u001b[0m     y_pred \u001b[39m=\u001b[39m rf\u001b[39m.\u001b[39mpredict(X_test)\n",
      "File \u001b[1;32mc:\\Users\\vikto\\OneDrive - Høgskulen på Vestlandet\\Documents\\Programming\\Python codes\\.venv\\Lib\\site-packages\\sklearn\\linear_model\\_base.py:699\u001b[0m, in \u001b[0;36mLinearRegression.fit\u001b[1;34m(self, X, y, sample_weight)\u001b[0m\n\u001b[0;32m    697\u001b[0m         \u001b[39mself\u001b[39m\u001b[39m.\u001b[39mcoef_ \u001b[39m=\u001b[39m np\u001b[39m.\u001b[39mvstack([out[\u001b[39m0\u001b[39m] \u001b[39mfor\u001b[39;00m out \u001b[39min\u001b[39;00m outs])\n\u001b[0;32m    698\u001b[0m \u001b[39melse\u001b[39;00m:\n\u001b[1;32m--> 699\u001b[0m     \u001b[39mself\u001b[39m\u001b[39m.\u001b[39mcoef_, _, \u001b[39mself\u001b[39m\u001b[39m.\u001b[39mrank_, \u001b[39mself\u001b[39m\u001b[39m.\u001b[39msingular_ \u001b[39m=\u001b[39m linalg\u001b[39m.\u001b[39;49mlstsq(X, y)\n\u001b[0;32m    700\u001b[0m     \u001b[39mself\u001b[39m\u001b[39m.\u001b[39mcoef_ \u001b[39m=\u001b[39m \u001b[39mself\u001b[39m\u001b[39m.\u001b[39mcoef_\u001b[39m.\u001b[39mT\n\u001b[0;32m    702\u001b[0m \u001b[39mif\u001b[39;00m y\u001b[39m.\u001b[39mndim \u001b[39m==\u001b[39m \u001b[39m1\u001b[39m:\n",
      "File \u001b[1;32mc:\\Users\\vikto\\OneDrive - Høgskulen på Vestlandet\\Documents\\Programming\\Python codes\\.venv\\Lib\\site-packages\\scipy\\linalg\\_basic.py:1221\u001b[0m, in \u001b[0;36mlstsq\u001b[1;34m(a, b, cond, overwrite_a, overwrite_b, check_finite, lapack_driver)\u001b[0m\n\u001b[0;32m   1218\u001b[0m         x, s, rank, info \u001b[39m=\u001b[39m lapack_func(a1, b1, lwork, rwork, iwork,\n\u001b[0;32m   1219\u001b[0m                                        cond, \u001b[39mFalse\u001b[39;00m, \u001b[39mFalse\u001b[39;00m)\n\u001b[0;32m   1220\u001b[0m \u001b[39mif\u001b[39;00m info \u001b[39m>\u001b[39m \u001b[39m0\u001b[39m:\n\u001b[1;32m-> 1221\u001b[0m     \u001b[39mraise\u001b[39;00m LinAlgError(\u001b[39m\"\u001b[39m\u001b[39mSVD did not converge in Linear Least Squares\u001b[39m\u001b[39m\"\u001b[39m)\n\u001b[0;32m   1222\u001b[0m \u001b[39mif\u001b[39;00m info \u001b[39m<\u001b[39m \u001b[39m0\u001b[39m:\n\u001b[0;32m   1223\u001b[0m     \u001b[39mraise\u001b[39;00m \u001b[39mValueError\u001b[39;00m(\u001b[39m'\u001b[39m\u001b[39millegal value in \u001b[39m\u001b[39m%d\u001b[39;00m\u001b[39m-th argument of internal \u001b[39m\u001b[39m%s\u001b[39;00m\u001b[39m'\u001b[39m\n\u001b[0;32m   1224\u001b[0m                      \u001b[39m%\u001b[39m (\u001b[39m-\u001b[39minfo, lapack_driver))\n",
      "\u001b[1;31mLinAlgError\u001b[0m: SVD did not converge in Linear Least Squares"
     ]
    }
   ],
   "source": [
    "accuracy, confusion_matrix = metoder.linearregression(X_train, X_test, y_train, y_test)\n",
    "results['linearregression'] = {'accuracy': accuracy, 'confusion_matrix': confusion_matrix}\n"
   ]
  },
  {
   "cell_type": "code",
   "execution_count": 13,
   "metadata": {},
   "outputs": [],
   "source": [
    "\n",
    "accuracy, confusion_matrix = metoder.decisionregressor(X_train, X_test, y_train, y_test)\n",
    "results['decisionregressor'] = {'accuracy': accuracy, 'confusion_matrix': confusion_matrix}\n"
   ]
  },
  {
   "cell_type": "code",
   "execution_count": 14,
   "metadata": {},
   "outputs": [],
   "source": [
    "\n",
    "accuracy, confusion_matrix = metoder.mlpregression(X_train, X_test, y_train, y_test)\n",
    "results['mlpregression'] = {'accuracy': accuracy, 'confusion_matrix': confusion_matrix}"
   ]
  },
  {
   "cell_type": "code",
   "execution_count": null,
   "metadata": {},
   "outputs": [],
   "source": [
    "accuracy, confusion_matrix = metoder.supportvectoregressor(X_train, X_test, y_train, y_test)\n",
    "results['supportvectoregressor'] = {'accuracy': accuracy, 'confusion_matrix': confusion_matrix}"
   ]
  },
  {
   "cell_type": "code",
   "execution_count": null,
   "metadata": {},
   "outputs": [],
   "source": [
    "\n",
    "accuracy, confusion_matrix = metoder.kneighborsregressor(X_train, X_test, y_train, y_test)\n",
    "results['kneighborsregressor'] = {'accuracy': accuracy, 'confusion_matrix': confusion_matrix}"
   ]
  },
  {
   "cell_type": "code",
   "execution_count": 8,
   "metadata": {},
   "outputs": [
    {
     "ename": "LinAlgError",
     "evalue": "SVD did not converge in Linear Least Squares",
     "output_type": "error",
     "traceback": [
      "\u001b[1;31m---------------------------------------------------------------------------\u001b[0m",
      "\u001b[1;31mLinAlgError\u001b[0m                               Traceback (most recent call last)",
      "\u001b[1;32mc:\\Users\\vikto\\OneDrive - Høgskulen på Vestlandet\\Documents\\Programming\\Python codes\\datadriven_system\\Prosjekt_SOPP\\NormalAlgorithms\\ML_project_fullPOP.ipynb Cell 18\u001b[0m line \u001b[0;36m1\n\u001b[0;32m      <a href='vscode-notebook-cell:/c%3A/Users/vikto/OneDrive%20-%20H%C3%B8gskulen%20p%C3%A5%20Vestlandet/Documents/Programming/Python%20codes/datadriven_system/Prosjekt_SOPP/NormalAlgorithms/ML_project_fullPOP.ipynb#X23sZmlsZQ%3D%3D?line=7'>8</a>\u001b[0m accuracy, confusion_matrix \u001b[39m=\u001b[39m metoder\u001b[39m.\u001b[39mgradientboost(X_train, X_test, y_train, y_test)\n\u001b[0;32m      <a href='vscode-notebook-cell:/c%3A/Users/vikto/OneDrive%20-%20H%C3%B8gskulen%20p%C3%A5%20Vestlandet/Documents/Programming/Python%20codes/datadriven_system/Prosjekt_SOPP/NormalAlgorithms/ML_project_fullPOP.ipynb#X23sZmlsZQ%3D%3D?line=8'>9</a>\u001b[0m results[\u001b[39m'\u001b[39m\u001b[39mgradientboost\u001b[39m\u001b[39m'\u001b[39m] \u001b[39m=\u001b[39m {\u001b[39m'\u001b[39m\u001b[39maccuracy\u001b[39m\u001b[39m'\u001b[39m: accuracy, \u001b[39m'\u001b[39m\u001b[39mconfusion_matrix\u001b[39m\u001b[39m'\u001b[39m: confusion_matrix}\n\u001b[1;32m---> <a href='vscode-notebook-cell:/c%3A/Users/vikto/OneDrive%20-%20H%C3%B8gskulen%20p%C3%A5%20Vestlandet/Documents/Programming/Python%20codes/datadriven_system/Prosjekt_SOPP/NormalAlgorithms/ML_project_fullPOP.ipynb#X23sZmlsZQ%3D%3D?line=10'>11</a>\u001b[0m accuracy, confusion_matrix \u001b[39m=\u001b[39m metoder\u001b[39m.\u001b[39;49mlinearregression(X_train, X_test, y_train, y_test)\n\u001b[0;32m     <a href='vscode-notebook-cell:/c%3A/Users/vikto/OneDrive%20-%20H%C3%B8gskulen%20p%C3%A5%20Vestlandet/Documents/Programming/Python%20codes/datadriven_system/Prosjekt_SOPP/NormalAlgorithms/ML_project_fullPOP.ipynb#X23sZmlsZQ%3D%3D?line=11'>12</a>\u001b[0m results[\u001b[39m'\u001b[39m\u001b[39mlinearregression\u001b[39m\u001b[39m'\u001b[39m] \u001b[39m=\u001b[39m {\u001b[39m'\u001b[39m\u001b[39maccuracy\u001b[39m\u001b[39m'\u001b[39m: accuracy, \u001b[39m'\u001b[39m\u001b[39mconfusion_matrix\u001b[39m\u001b[39m'\u001b[39m: confusion_matrix}\n\u001b[0;32m     <a href='vscode-notebook-cell:/c%3A/Users/vikto/OneDrive%20-%20H%C3%B8gskulen%20p%C3%A5%20Vestlandet/Documents/Programming/Python%20codes/datadriven_system/Prosjekt_SOPP/NormalAlgorithms/ML_project_fullPOP.ipynb#X23sZmlsZQ%3D%3D?line=13'>14</a>\u001b[0m accuracy, confusion_matrix \u001b[39m=\u001b[39m metoder\u001b[39m.\u001b[39mdecisionregressor(X_train, X_test, y_train, y_test)\n",
      "File \u001b[1;32mc:\\Users\\vikto\\OneDrive - Høgskulen på Vestlandet\\Documents\\Programming\\Python codes\\datadriven_system\\Prosjekt_SOPP\\NormalAlgorithms\\metoder.py:46\u001b[0m, in \u001b[0;36mlinearregression\u001b[1;34m(X_train, X_test, y_train, y_test)\u001b[0m\n\u001b[0;32m     43\u001b[0m \u001b[39mdef\u001b[39;00m \u001b[39mlinearregression\u001b[39m(X_train, X_test, y_train, y_test):\n\u001b[0;32m     44\u001b[0m     \u001b[39m# Import and train a machine learning model\u001b[39;00m\n\u001b[0;32m     45\u001b[0m     rf \u001b[39m=\u001b[39m LinearRegression()\n\u001b[1;32m---> 46\u001b[0m     rf\u001b[39m.\u001b[39;49mfit(X_train, y_train)\n\u001b[0;32m     48\u001b[0m     \u001b[39m# Predict on the test data\u001b[39;00m\n\u001b[0;32m     49\u001b[0m     y_pred \u001b[39m=\u001b[39m rf\u001b[39m.\u001b[39mpredict(X_test)\n",
      "File \u001b[1;32mc:\\Users\\vikto\\OneDrive - Høgskulen på Vestlandet\\Documents\\Programming\\Python codes\\.venv\\Lib\\site-packages\\sklearn\\linear_model\\_base.py:699\u001b[0m, in \u001b[0;36mLinearRegression.fit\u001b[1;34m(self, X, y, sample_weight)\u001b[0m\n\u001b[0;32m    697\u001b[0m         \u001b[39mself\u001b[39m\u001b[39m.\u001b[39mcoef_ \u001b[39m=\u001b[39m np\u001b[39m.\u001b[39mvstack([out[\u001b[39m0\u001b[39m] \u001b[39mfor\u001b[39;00m out \u001b[39min\u001b[39;00m outs])\n\u001b[0;32m    698\u001b[0m \u001b[39melse\u001b[39;00m:\n\u001b[1;32m--> 699\u001b[0m     \u001b[39mself\u001b[39m\u001b[39m.\u001b[39mcoef_, _, \u001b[39mself\u001b[39m\u001b[39m.\u001b[39mrank_, \u001b[39mself\u001b[39m\u001b[39m.\u001b[39msingular_ \u001b[39m=\u001b[39m linalg\u001b[39m.\u001b[39;49mlstsq(X, y)\n\u001b[0;32m    700\u001b[0m     \u001b[39mself\u001b[39m\u001b[39m.\u001b[39mcoef_ \u001b[39m=\u001b[39m \u001b[39mself\u001b[39m\u001b[39m.\u001b[39mcoef_\u001b[39m.\u001b[39mT\n\u001b[0;32m    702\u001b[0m \u001b[39mif\u001b[39;00m y\u001b[39m.\u001b[39mndim \u001b[39m==\u001b[39m \u001b[39m1\u001b[39m:\n",
      "File \u001b[1;32mc:\\Users\\vikto\\OneDrive - Høgskulen på Vestlandet\\Documents\\Programming\\Python codes\\.venv\\Lib\\site-packages\\scipy\\linalg\\_basic.py:1221\u001b[0m, in \u001b[0;36mlstsq\u001b[1;34m(a, b, cond, overwrite_a, overwrite_b, check_finite, lapack_driver)\u001b[0m\n\u001b[0;32m   1218\u001b[0m         x, s, rank, info \u001b[39m=\u001b[39m lapack_func(a1, b1, lwork, rwork, iwork,\n\u001b[0;32m   1219\u001b[0m                                        cond, \u001b[39mFalse\u001b[39;00m, \u001b[39mFalse\u001b[39;00m)\n\u001b[0;32m   1220\u001b[0m \u001b[39mif\u001b[39;00m info \u001b[39m>\u001b[39m \u001b[39m0\u001b[39m:\n\u001b[1;32m-> 1221\u001b[0m     \u001b[39mraise\u001b[39;00m LinAlgError(\u001b[39m\"\u001b[39m\u001b[39mSVD did not converge in Linear Least Squares\u001b[39m\u001b[39m\"\u001b[39m)\n\u001b[0;32m   1222\u001b[0m \u001b[39mif\u001b[39;00m info \u001b[39m<\u001b[39m \u001b[39m0\u001b[39m:\n\u001b[0;32m   1223\u001b[0m     \u001b[39mraise\u001b[39;00m \u001b[39mValueError\u001b[39;00m(\u001b[39m'\u001b[39m\u001b[39millegal value in \u001b[39m\u001b[39m%d\u001b[39;00m\u001b[39m-th argument of internal \u001b[39m\u001b[39m%s\u001b[39;00m\u001b[39m'\u001b[39m\n\u001b[0;32m   1224\u001b[0m                      \u001b[39m%\u001b[39m (\u001b[39m-\u001b[39minfo, lapack_driver))\n",
      "\u001b[1;31mLinAlgError\u001b[0m: SVD did not converge in Linear Least Squares"
     ]
    }
   ],
   "source": []
  },
  {
   "cell_type": "code",
   "execution_count": null,
   "metadata": {},
   "outputs": [
    {
     "ename": "NameError",
     "evalue": "name 'result' is not defined",
     "output_type": "error",
     "traceback": [
      "\u001b[1;31m---------------------------------------------------------------------------\u001b[0m",
      "\u001b[1;31mNameError\u001b[0m                                 Traceback (most recent call last)",
      "\u001b[1;32mc:\\Users\\vikto\\OneDrive - Høgskulen på Vestlandet\\Documents\\Programming\\Python codes\\datadriven_system\\Prosjekt_SOPP\\NormalAlgorithms\\ML_project_fullPOP.ipynb Cell 19\u001b[0m line \u001b[0;36m4\n\u001b[0;32m      <a href='vscode-notebook-cell:/c%3A/Users/vikto/OneDrive%20-%20H%C3%B8gskulen%20p%C3%A5%20Vestlandet/Documents/Programming/Python%20codes/datadriven_system/Prosjekt_SOPP/NormalAlgorithms/ML_project_fullPOP.ipynb#X35sZmlsZQ%3D%3D?line=0'>1</a>\u001b[0m \u001b[39m#models = ['KNN Regressor', 'Linear Regression', 'Decision Tree Regressor' ,'Random Forest Regressor',\u001b[39;00m\n\u001b[0;32m      <a href='vscode-notebook-cell:/c%3A/Users/vikto/OneDrive%20-%20H%C3%B8gskulen%20p%C3%A5%20Vestlandet/Documents/Programming/Python%20codes/datadriven_system/Prosjekt_SOPP/NormalAlgorithms/ML_project_fullPOP.ipynb#X35sZmlsZQ%3D%3D?line=1'>2</a>\u001b[0m \u001b[39m# 'Gradient Boosting Regressor','Support Vector Regressor', 'MLP Regressor']\u001b[39;00m\n\u001b[0;32m      <a href='vscode-notebook-cell:/c%3A/Users/vikto/OneDrive%20-%20H%C3%B8gskulen%20p%C3%A5%20Vestlandet/Documents/Programming/Python%20codes/datadriven_system/Prosjekt_SOPP/NormalAlgorithms/ML_project_fullPOP.ipynb#X35sZmlsZQ%3D%3D?line=2'>3</a>\u001b[0m \u001b[39m#tests_score = [KNN, lr, dr, rf, gb, svr, mlp]\u001b[39;00m\n\u001b[1;32m----> <a href='vscode-notebook-cell:/c%3A/Users/vikto/OneDrive%20-%20H%C3%B8gskulen%20p%C3%A5%20Vestlandet/Documents/Programming/Python%20codes/datadriven_system/Prosjekt_SOPP/NormalAlgorithms/ML_project_fullPOP.ipynb#X35sZmlsZQ%3D%3D?line=3'>4</a>\u001b[0m compare_models \u001b[39m=\u001b[39m pd\u001b[39m.\u001b[39mDataFrame({ \u001b[39m\"\u001b[39m\u001b[39mAlgorithms\u001b[39m\u001b[39m\"\u001b[39m: result[\u001b[39m'\u001b[39m\u001b[39mfunction_name\u001b[39m\u001b[39m'\u001b[39m], \u001b[39m\"\u001b[39m\u001b[39maccuracy\u001b[39m\u001b[39m\"\u001b[39m: result[\u001b[39m'\u001b[39m\u001b[39maccuracy\u001b[39m\u001b[39m'\u001b[39m] })\n\u001b[0;32m      <a href='vscode-notebook-cell:/c%3A/Users/vikto/OneDrive%20-%20H%C3%B8gskulen%20p%C3%A5%20Vestlandet/Documents/Programming/Python%20codes/datadriven_system/Prosjekt_SOPP/NormalAlgorithms/ML_project_fullPOP.ipynb#X35sZmlsZQ%3D%3D?line=4'>5</a>\u001b[0m compare_models\u001b[39m.\u001b[39msort_values(by \u001b[39m=\u001b[39m \u001b[39m\"\u001b[39m\u001b[39mTests Score\u001b[39m\u001b[39m\"\u001b[39m, ascending \u001b[39m=\u001b[39m \u001b[39mFalse\u001b[39;00m)\n",
      "\u001b[1;31mNameError\u001b[0m: name 'result' is not defined"
     ]
    }
   ],
   "source": [
    "#models = ['KNN Regressor', 'Linear Regression', 'Decision Tree Regressor' ,'Random Forest Regressor',\n",
    "# 'Gradient Boosting Regressor','Support Vector Regressor', 'MLP Regressor']\n",
    "#tests_score = [KNN, lr, dr, rf, gb, svr, mlp]\n",
    "compare_models = pd.DataFrame({ \"Algorithms\": result['function_name'], \"accuracy\": result['accuracy'] })\n",
    "compare_models.sort_values(by = \"Tests Score\", ascending = False)"
   ]
  },
  {
   "cell_type": "code",
   "execution_count": null,
   "metadata": {},
   "outputs": [],
   "source": [
    "%matplotlib inline\n",
    "plt.figure(figsize=(8,8))\n",
    "sns.barplot(x = \"Tests Score\", y = \"Algorithms\", data = compare_models)\n",
    "plt.show()"
   ]
  }
 ],
 "metadata": {
  "interpreter": {
   "hash": "aee8b7b246df8f9039afb4144a1f6fd8d2ca17a180786b69acc140d282b71a49"
  },
  "kernelspec": {
   "display_name": "Python 3.10.2 64-bit",
   "language": "python",
   "name": "python3"
  },
  "language_info": {
   "codemirror_mode": {
    "name": "ipython",
    "version": 3
   },
   "file_extension": ".py",
   "mimetype": "text/x-python",
   "name": "python",
   "nbconvert_exporter": "python",
   "pygments_lexer": "ipython3",
   "version": "3.11.3"
  },
  "orig_nbformat": 4
 },
 "nbformat": 4,
 "nbformat_minor": 2
}
