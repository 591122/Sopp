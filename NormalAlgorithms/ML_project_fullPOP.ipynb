{
 "cells": [
  {
   "cell_type": "markdown",
   "metadata": {},
   "source": [
    "# ML Project"
   ]
  },
  {
   "cell_type": "code",
   "execution_count": 41,
   "metadata": {},
   "outputs": [],
   "source": [
    "import pandas as pd\n",
    "import numpy as np\n",
    "import seaborn as sns\n",
    "import matplotlib.pyplot as plt\n",
    "import tensorflow as tf\n",
    "from sklearn.model_selection import train_test_split, cross_val_score\n",
    "from sklearn.preprocessing import StandardScaler\n",
    "from sklearn.metrics import confusion_matrix\n",
    "from sklearn.dummy import DummyClassifier\n",
    "import random\n",
    "import metoder\n",
    "import pandas as pd\n",
    "\n",
    "\n"
   ]
  },
  {
   "cell_type": "markdown",
   "metadata": {},
   "source": [
    "Importing dataset:"
   ]
  },
  {
   "cell_type": "code",
   "execution_count": 24,
   "metadata": {},
   "outputs": [
    {
     "name": "stdout",
     "output_type": "stream",
     "text": [
      "object\n",
      "<class 'pandas.core.frame.DataFrame'>\n",
      "RangeIndex: 8124 entries, 0 to 8123\n",
      "Data columns (total 23 columns):\n",
      " #   Column                 Non-Null Count  Dtype \n",
      "---  ------                 --------------  ----- \n",
      " 0   class                  8124 non-null   object\n",
      " 1   capShape               8124 non-null   object\n",
      " 2   capSurface             8124 non-null   object\n",
      " 3   capColor               8124 non-null   object\n",
      " 4   bruises                8124 non-null   object\n",
      " 5   odor                   8124 non-null   object\n",
      " 6   gillAttachment         8124 non-null   object\n",
      " 7   gillSpacing            8124 non-null   object\n",
      " 8   gillSize               8124 non-null   object\n",
      " 9   gillColor              8124 non-null   object\n",
      " 10  stalkShape             8124 non-null   object\n",
      " 11  stalkRoot              8124 non-null   object\n",
      " 12  stalkSurfaceAboveRing  8124 non-null   object\n",
      " 13  stalkSurfaceBelowRing  8124 non-null   object\n",
      " 14  stalkColorAboveRing    8124 non-null   object\n",
      " 15  stalkColorBelowRing    8124 non-null   object\n",
      " 16  veilType               8124 non-null   object\n",
      " 17  veilColor              8124 non-null   object\n",
      " 18  ringNumber             8124 non-null   object\n",
      " 19  ringType               8124 non-null   object\n",
      " 20  sporePrintColor        8124 non-null   object\n",
      " 21  population             8124 non-null   object\n",
      " 22  habitat                8124 non-null   object\n",
      "dtypes: object(23)\n",
      "memory usage: 1.4+ MB\n"
     ]
    }
   ],
   "source": [
    "#path:\n",
    "#file_path = r\"C:\\Users\\vikto\\Documents\\Skole\\Datadrevne_systemer\\ML_Project\\glass_data-4_lev.csv\"\n",
    "file_path_training = \"../Datasett/train_set.csv\"\n",
    "file_path_test = \"../Datasett/test_set.csv\"\n",
    "file_path_total_set =   \"../Datasett/mushrooms.csv\"\n",
    "#importing file and print how the structure of data were inported. \n",
    "df_training = pd.read_csv(file_path_training)\n",
    "df_test = pd.read_csv(file_path_test)\n",
    "df_total = pd.read_csv(file_path_total_set)\n",
    "\n",
    "\n",
    "\n",
    "#drop ID number\n",
    "#df = df.drop(columns=['Id'])\n",
    "\n",
    "print(df_total['class'].dtype)\n",
    "df_total.info()"
   ]
  },
  {
   "cell_type": "markdown",
   "metadata": {},
   "source": [
    "### Small exploration of data:"
   ]
  },
  {
   "cell_type": "code",
   "execution_count": 25,
   "metadata": {},
   "outputs": [
    {
     "name": "stdout",
     "output_type": "stream",
     "text": [
      "Number of unique rows: 8124\n"
     ]
    }
   ],
   "source": [
    "# Check the number of unique rows in the DataFrame\n",
    "num_unique_rows = df_total.drop_duplicates().shape[0]\n",
    "\n",
    "# Print the result\n",
    "print(\"Number of unique rows:\", num_unique_rows)"
   ]
  },
  {
   "cell_type": "markdown",
   "metadata": {},
   "source": [
    "The data set clearly shows that T1, T2 is most frequently. "
   ]
  },
  {
   "cell_type": "code",
   "execution_count": 26,
   "metadata": {},
   "outputs": [
    {
     "data": {
      "image/png": "[encoded data removed]",
      "text/plain": [
       "<Figure size 640x480 with 1 Axes>"
      ]
     },
     "metadata": {},
     "output_type": "display_data"
    }
   ],
   "source": [
    "# Create a histogram of age with hue for income\n",
    "sns.histplot(data=df_total, x='capShape', hue='class', multiple='stack', palette='pastel')\n",
    "\n",
    "# Add labels and title\n",
    "plt.xlabel('cap shape')\n",
    "plt.ylabel('Frequency')\n",
    "plt.title('cap shape Distribution by class')\n",
    "\n",
    "# Show the plot\n",
    "plt.show()"
   ]
  },
  {
   "cell_type": "code",
   "execution_count": 27,
   "metadata": {},
   "outputs": [],
   "source": [
    "#for col in df.columns[:-1]:  # Exclude the 'Type' column\n",
    " #   sns.boxplot(x='Type', y=col, data=df)\n",
    "  #  plt.show()"
   ]
  },
  {
   "cell_type": "markdown",
   "metadata": {},
   "source": [
    "One-hot encoding to ensure the best result"
   ]
  },
  {
   "cell_type": "code",
   "execution_count": 40,
   "metadata": {},
   "outputs": [
    {
     "name": "stdout",
     "output_type": "stream",
     "text": [
      "   capShape_b  capShape_c  capShape_f  capShape_k  capShape_s  capShape_x  \\\n",
      "0       False       False       False        True       False       False   \n",
      "1       False       False       False       False       False        True   \n",
      "2       False       False        True       False       False       False   \n",
      "3       False       False        True       False       False       False   \n",
      "4        True       False       False       False       False       False   \n",
      "\n",
      "   capSurface_f  capSurface_g  capSurface_s  capSurface_y  ...  population_s  \\\n",
      "0         False         False          True         False  ...         False   \n",
      "1         False         False          True         False  ...         False   \n",
      "2         False         False         False          True  ...         False   \n",
      "3          True         False         False         False  ...         False   \n",
      "4         False         False         False          True  ...         False   \n",
      "\n",
      "   population_v  population_y  habitat_d  habitat_g  habitat_l  habitat_m  \\\n",
      "0          True         False       True      False      False      False   \n",
      "1          True         False      False      False      False      False   \n",
      "2          True         False      False      False       True      False   \n",
      "3          True         False       True      False      False      False   \n",
      "4         False         False      False      False      False       True   \n",
      "\n",
      "   habitat_p  habitat_u  habitat_w  \n",
      "0      False      False      False  \n",
      "1       True      False      False  \n",
      "2      False      False      False  \n",
      "3      False      False      False  \n",
      "4      False      False      False  \n",
      "\n",
      "[5 rows x 117 columns]\n"
     ]
    }
   ],
   "source": [
    "# Perform one-hot encoding for all categorical columns except the \"class\" column\n",
    "# Perform one-hot encoding for all categorical columns except the \"class\" column\n",
    "df_train_encoded = pd.get_dummies(df_training, columns=[\"capShape\", \"capSurface\", \"capColor\", \"bruises\", \"odor\", \"gillAttachment\", \"gillSpacing\", \"gillSize\", \"gillColor\", \"stalkShape\", \"stalkRoot\", \"stalkSurfaceAboveRing\", \"stalkSurfaceBelowRing\", \"stalkColorAboveRing\", \"stalkColorBelowRing\", \"veilType\", \"veilColor\", \"ringNumber\", \"ringType\", \"sporePrintColor\", \"population\", \"habitat\"])\n",
    "df_test_encoded = pd.get_dummies(df_test, columns=[\"capShape\", \"capSurface\", \"capColor\", \"bruises\", \"odor\", \"gillAttachment\", \"gillSpacing\", \"gillSize\", \"gillColor\", \"stalkShape\", \"stalkRoot\", \"stalkSurfaceAboveRing\", \"stalkSurfaceBelowRing\", \"stalkColorAboveRing\", \"stalkColorBelowRing\", \"veilType\", \"veilColor\", \"ringNumber\", \"ringType\", \"sporePrintColor\", \"population\", \"habitat\"])\n",
    "\n",
    "# Replace \"p\" with 1 and \"e\" with 0 in the \"class\" column in the df_training and df_test DataFrames\n",
    "df_train_encoded['class'] = df_train_encoded['class'].apply(lambda x: 1 if x == 'p' else 0)\n",
    "df_test_encoded['class'] = df_test_encoded['class'].apply(lambda x: 1 if x == 'p' else 0)\n",
    "\n",
    "# Splitting into features (X) and target variable (y)\n",
    "X_train, y_train = df_train_encoded.drop(['class'], axis=1), df_train_encoded['class']\n",
    "X_test, y_test = df_test_encoded.drop(['class'], axis=1), df_test_encoded['class']\n",
    "\n",
    "print(X_train.head())\n"
   ]
  },
  {
   "cell_type": "markdown",
   "metadata": {},
   "source": [
    "### Make a neural network:"
   ]
  },
  {
   "cell_type": "markdown",
   "metadata": {},
   "source": [
    "Split data to training and validation and Scale the data: "
   ]
  },
  {
   "cell_type": "code",
   "execution_count": 43,
   "metadata": {},
   "outputs": [
    {
     "name": "stdout",
     "output_type": "stream",
     "text": [
      "Epoch 1/10\n",
      "204/204 [==============================] - 1s 2ms/step - loss: 0.1277 - accuracy: 0.9563 - val_loss: 0.0155 - val_accuracy: 0.9982\n",
      "Epoch 2/10\n",
      "204/204 [==============================] - 0s 2ms/step - loss: 0.0052 - accuracy: 0.9998 - val_loss: 0.0022 - val_accuracy: 1.0000\n",
      "Epoch 3/10\n",
      "204/204 [==============================] - 0s 2ms/step - loss: 0.0013 - accuracy: 1.0000 - val_loss: 9.8725e-04 - val_accuracy: 1.0000\n",
      "Epoch 4/10\n",
      "204/204 [==============================] - 0s 2ms/step - loss: 5.4205e-04 - accuracy: 1.0000 - val_loss: 4.4018e-04 - val_accuracy: 1.0000\n",
      "Epoch 5/10\n",
      "204/204 [==============================] - 0s 2ms/step - loss: 2.8249e-04 - accuracy: 1.0000 - val_loss: 2.7557e-04 - val_accuracy: 1.0000\n",
      "Epoch 6/10\n",
      "204/204 [==============================] - 0s 2ms/step - loss: 1.7321e-04 - accuracy: 1.0000 - val_loss: 1.7684e-04 - val_accuracy: 1.0000\n",
      "Epoch 7/10\n",
      "204/204 [==============================] - 0s 2ms/step - loss: 1.1189e-04 - accuracy: 1.0000 - val_loss: 1.2839e-04 - val_accuracy: 1.0000\n",
      "Epoch 8/10\n",
      "204/204 [==============================] - 0s 2ms/step - loss: 7.8201e-05 - accuracy: 1.0000 - val_loss: 9.0664e-05 - val_accuracy: 1.0000\n",
      "Epoch 9/10\n",
      "204/204 [==============================] - 1s 3ms/step - loss: 5.6788e-05 - accuracy: 1.0000 - val_loss: 6.3968e-05 - val_accuracy: 1.0000\n",
      "Epoch 10/10\n",
      "204/204 [==============================] - 0s 2ms/step - loss: 4.2355e-05 - accuracy: 1.0000 - val_loss: 5.2165e-05 - val_accuracy: 1.0000\n"
     ]
    },
    {
     "data": {
      "image/png": "[encoded data removed]",
      "text/plain": [
       "<Figure size 640x480 with 1 Axes>"
      ]
     },
     "metadata": {},
     "output_type": "display_data"
    }
   ],
   "source": [
    "# Build the neural network model\n",
    "model = tf.keras.Sequential([\n",
    "    tf.keras.layers.Dense(64, activation='relu', input_shape=(X_train.shape[1],)),\n",
    "    tf.keras.layers.Dense(32, activation='relu'),\n",
    "    tf.keras.layers.Dense(1, activation='sigmoid')\n",
    "])\n",
    "\n",
    "# Compile the model\n",
    "model.compile(optimizer='adam', loss='binary_crossentropy', metrics=['accuracy'])\n",
    "\n",
    "# Train the model and get the training history\n",
    "history = model.fit(X_train, y_train, epochs=10, batch_size=32, validation_data=(X_test, y_test))\n",
    "\n",
    "# Plot the validation loss over epochs\n",
    "plt.plot(history.history['val_loss'], label='Validation Loss')\n",
    "plt.xlabel('Epochs')\n",
    "plt.ylabel('Loss')\n",
    "plt.legend()\n",
    "plt.show()"
   ]
  },
  {
   "cell_type": "markdown",
   "metadata": {},
   "source": [
    "Create pytorch model:"
   ]
  },
  {
   "cell_type": "code",
   "execution_count": null,
   "metadata": {},
   "outputs": [],
   "source": []
  },
  {
   "cell_type": "markdown",
   "metadata": {},
   "source": [
    "Evaluate model:"
   ]
  },
  {
   "cell_type": "code",
   "execution_count": 29,
   "metadata": {},
   "outputs": [],
   "source": [
    "# Results storage as a dictionary\n",
    "results = {}"
   ]
  },
  {
   "cell_type": "code",
   "execution_count": 30,
   "metadata": {},
   "outputs": [],
   "source": [
    "# Call each function and store the results\n",
    "accuracy, confusion_matrix = metoder.randomforest(X_train, X_test, y_train, y_test)\n",
    "results['randomforest'] = {'accuracy': accuracy, 'confusion_matrix': confusion_matrix}"
   ]
  },
  {
   "cell_type": "code",
   "execution_count": 31,
   "metadata": {},
   "outputs": [],
   "source": [
    "accuracy, confusion_matrix = metoder.gradientboost(X_train, X_test, y_train, y_test)\n",
    "results['gradientboost'] = {'accuracy': accuracy, 'confusion_matrix': confusion_matrix}"
   ]
  },
  {
   "cell_type": "code",
   "execution_count": 32,
   "metadata": {},
   "outputs": [
    {
     "ename": "LinAlgError",
     "evalue": "SVD did not converge in Linear Least Squares",
     "output_type": "error",
     "traceback": [
      "\u001b[1;31m---------------------------------------------------------------------------\u001b[0m",
      "\u001b[1;31mLinAlgError\u001b[0m                               Traceback (most recent call last)",
      "\u001b[1;32mc:\\Users\\vikto\\OneDrive - Høgskulen på Vestlandet\\Documents\\Programming\\Python codes\\datadriven_system\\Prosjekt_SOPP\\NormalAlgorithms\\ML_project_fullPOP.ipynb Cell 21\u001b[0m line \u001b[0;36m1\n\u001b[1;32m----> <a href='vscode-notebook-cell:/c%3A/Users/vikto/OneDrive%20-%20H%C3%B8gskulen%20p%C3%A5%20Vestlandet/Documents/Programming/Python%20codes/datadriven_system/Prosjekt_SOPP/NormalAlgorithms/ML_project_fullPOP.ipynb#X32sZmlsZQ%3D%3D?line=0'>1</a>\u001b[0m accuracy, confusion_matrix \u001b[39m=\u001b[39m metoder\u001b[39m.\u001b[39;49mlinearregression(X_train, X_test, y_train, y_test)\n\u001b[0;32m      <a href='vscode-notebook-cell:/c%3A/Users/vikto/OneDrive%20-%20H%C3%B8gskulen%20p%C3%A5%20Vestlandet/Documents/Programming/Python%20codes/datadriven_system/Prosjekt_SOPP/NormalAlgorithms/ML_project_fullPOP.ipynb#X32sZmlsZQ%3D%3D?line=1'>2</a>\u001b[0m results[\u001b[39m'\u001b[39m\u001b[39mlinearregression\u001b[39m\u001b[39m'\u001b[39m] \u001b[39m=\u001b[39m {\u001b[39m'\u001b[39m\u001b[39maccuracy\u001b[39m\u001b[39m'\u001b[39m: accuracy, \u001b[39m'\u001b[39m\u001b[39mconfusion_matrix\u001b[39m\u001b[39m'\u001b[39m: confusion_matrix}\n",
      "File \u001b[1;32mc:\\Users\\vikto\\OneDrive - Høgskulen på Vestlandet\\Documents\\Programming\\Python codes\\datadriven_system\\Prosjekt_SOPP\\NormalAlgorithms\\metoder.py:46\u001b[0m, in \u001b[0;36mlinearregression\u001b[1;34m(X_train, X_test, y_train, y_test)\u001b[0m\n\u001b[0;32m     43\u001b[0m \u001b[39mdef\u001b[39;00m \u001b[39mlinearregression\u001b[39m(X_train, X_test, y_train, y_test):\n\u001b[0;32m     44\u001b[0m     \u001b[39m# Import and train a machine learning model\u001b[39;00m\n\u001b[0;32m     45\u001b[0m     rf \u001b[39m=\u001b[39m LinearRegression()\n\u001b[1;32m---> 46\u001b[0m     rf\u001b[39m.\u001b[39;49mfit(X_train, y_train)\n\u001b[0;32m     48\u001b[0m     \u001b[39m# Predict on the test data\u001b[39;00m\n\u001b[0;32m     49\u001b[0m     y_pred \u001b[39m=\u001b[39m rf\u001b[39m.\u001b[39mpredict(X_test)\n",
      "File \u001b[1;32mc:\\Users\\vikto\\OneDrive - Høgskulen på Vestlandet\\Documents\\Programming\\Python codes\\.venv\\Lib\\site-packages\\sklearn\\linear_model\\_base.py:699\u001b[0m, in \u001b[0;36mLinearRegression.fit\u001b[1;34m(self, X, y, sample_weight)\u001b[0m\n\u001b[0;32m    697\u001b[0m         \u001b[39mself\u001b[39m\u001b[39m.\u001b[39mcoef_ \u001b[39m=\u001b[39m np\u001b[39m.\u001b[39mvstack([out[\u001b[39m0\u001b[39m] \u001b[39mfor\u001b[39;00m out \u001b[39min\u001b[39;00m outs])\n\u001b[0;32m    698\u001b[0m \u001b[39melse\u001b[39;00m:\n\u001b[1;32m--> 699\u001b[0m     \u001b[39mself\u001b[39m\u001b[39m.\u001b[39mcoef_, _, \u001b[39mself\u001b[39m\u001b[39m.\u001b[39mrank_, \u001b[39mself\u001b[39m\u001b[39m.\u001b[39msingular_ \u001b[39m=\u001b[39m linalg\u001b[39m.\u001b[39;49mlstsq(X, y)\n\u001b[0;32m    700\u001b[0m     \u001b[39mself\u001b[39m\u001b[39m.\u001b[39mcoef_ \u001b[39m=\u001b[39m \u001b[39mself\u001b[39m\u001b[39m.\u001b[39mcoef_\u001b[39m.\u001b[39mT\n\u001b[0;32m    702\u001b[0m \u001b[39mif\u001b[39;00m y\u001b[39m.\u001b[39mndim \u001b[39m==\u001b[39m \u001b[39m1\u001b[39m:\n",
      "File \u001b[1;32mc:\\Users\\vikto\\OneDrive - Høgskulen på Vestlandet\\Documents\\Programming\\Python codes\\.venv\\Lib\\site-packages\\scipy\\linalg\\_basic.py:1221\u001b[0m, in \u001b[0;36mlstsq\u001b[1;34m(a, b, cond, overwrite_a, overwrite_b, check_finite, lapack_driver)\u001b[0m\n\u001b[0;32m   1218\u001b[0m         x, s, rank, info \u001b[39m=\u001b[39m lapack_func(a1, b1, lwork, rwork, iwork,\n\u001b[0;32m   1219\u001b[0m                                        cond, \u001b[39mFalse\u001b[39;00m, \u001b[39mFalse\u001b[39;00m)\n\u001b[0;32m   1220\u001b[0m \u001b[39mif\u001b[39;00m info \u001b[39m>\u001b[39m \u001b[39m0\u001b[39m:\n\u001b[1;32m-> 1221\u001b[0m     \u001b[39mraise\u001b[39;00m LinAlgError(\u001b[39m\"\u001b[39m\u001b[39mSVD did not converge in Linear Least Squares\u001b[39m\u001b[39m\"\u001b[39m)\n\u001b[0;32m   1222\u001b[0m \u001b[39mif\u001b[39;00m info \u001b[39m<\u001b[39m \u001b[39m0\u001b[39m:\n\u001b[0;32m   1223\u001b[0m     \u001b[39mraise\u001b[39;00m \u001b[39mValueError\u001b[39;00m(\u001b[39m'\u001b[39m\u001b[39millegal value in \u001b[39m\u001b[39m%d\u001b[39;00m\u001b[39m-th argument of internal \u001b[39m\u001b[39m%s\u001b[39;00m\u001b[39m'\u001b[39m\n\u001b[0;32m   1224\u001b[0m                      \u001b[39m%\u001b[39m (\u001b[39m-\u001b[39minfo, lapack_driver))\n",
      "\u001b[1;31mLinAlgError\u001b[0m: SVD did not converge in Linear Least Squares"
     ]
    }
   ],
   "source": [
    "#accuracy, confusion_matrix = metoder.linearregression(X_train, X_test, y_train, y_test)\n",
    "#results['linearregression'] = {'accuracy': accuracy, 'confusion_matrix': confusion_matrix}\n"
   ]
  },
  {
   "cell_type": "code",
   "execution_count": 33,
   "metadata": {},
   "outputs": [],
   "source": [
    "accuracy, confusion_matrix = metoder.decisionregressor(X_train, X_test, y_train, y_test)\n",
    "results['decisionregressor'] = {'accuracy': accuracy, 'confusion_matrix': confusion_matrix}"
   ]
  },
  {
   "cell_type": "code",
   "execution_count": 34,
   "metadata": {},
   "outputs": [],
   "source": [
    "accuracy, confusion_matrix = metoder.mlpregression(X_train, X_test, y_train, y_test)\n",
    "results['mlpregression'] = {'accuracy': accuracy, 'confusion_matrix': confusion_matrix}"
   ]
  },
  {
   "cell_type": "code",
   "execution_count": 35,
   "metadata": {},
   "outputs": [],
   "source": [
    "accuracy, confusion_matrix = metoder.supportvectoregressor(X_train, X_test, y_train, y_test)\n",
    "results['supportvectoregressor'] = {'accuracy': accuracy, 'confusion_matrix': confusion_matrix}"
   ]
  },
  {
   "cell_type": "code",
   "execution_count": 36,
   "metadata": {},
   "outputs": [],
   "source": [
    "\n",
    "accuracy, confusion_matrix = metoder.kneighborsregressor(X_train, X_test, y_train, y_test)\n",
    "results['kneighborsregressor'] = {'accuracy': accuracy, 'confusion_matrix': confusion_matrix}"
   ]
  },
  {
   "cell_type": "code",
   "execution_count": 37,
   "metadata": {},
   "outputs": [],
   "source": [
    "#make tree lists of dictionary: \n",
    "algorithm_names = []\n",
    "accuracies = []\n",
    "confusion_matrices = []\n",
    "\n",
    "for algorithm, results_info in results.items():\n",
    "    algorithm_names.append(algorithm)\n",
    "    accuracies.append(results_info['accuracy'])\n",
    "    confusion_matrices.append(results_info['confusion_matrix'])"
   ]
  },
  {
   "cell_type": "code",
   "execution_count": 38,
   "metadata": {},
   "outputs": [
    {
     "data": {
      "text/html": [
       "<div>\n",
       "<style scoped>\n",
       "    .dataframe tbody tr th:only-of-type {\n",
       "        vertical-align: middle;\n",
       "    }\n",
       "\n",
       "    .dataframe tbody tr th {\n",
       "        vertical-align: top;\n",
       "    }\n",
       "\n",
       "    .dataframe thead th {\n",
       "        text-align: right;\n",
       "    }\n",
       "</style>\n",
       "<table border=\"1\" class=\"dataframe\">\n",
       "  <thead>\n",
       "    <tr style=\"text-align: right;\">\n",
       "      <th></th>\n",
       "      <th>Algorithms</th>\n",
       "      <th>accuracy</th>\n",
       "    </tr>\n",
       "  </thead>\n",
       "  <tbody>\n",
       "    <tr>\n",
       "      <th>0</th>\n",
       "      <td>randomforest</td>\n",
       "      <td>1.0</td>\n",
       "    </tr>\n",
       "    <tr>\n",
       "      <th>1</th>\n",
       "      <td>gradientboost</td>\n",
       "      <td>1.0</td>\n",
       "    </tr>\n",
       "    <tr>\n",
       "      <th>2</th>\n",
       "      <td>decisionregressor</td>\n",
       "      <td>1.0</td>\n",
       "    </tr>\n",
       "    <tr>\n",
       "      <th>3</th>\n",
       "      <td>mlpregression</td>\n",
       "      <td>1.0</td>\n",
       "    </tr>\n",
       "    <tr>\n",
       "      <th>4</th>\n",
       "      <td>supportvectoregressor</td>\n",
       "      <td>1.0</td>\n",
       "    </tr>\n",
       "    <tr>\n",
       "      <th>5</th>\n",
       "      <td>kneighborsregressor</td>\n",
       "      <td>1.0</td>\n",
       "    </tr>\n",
       "  </tbody>\n",
       "</table>\n",
       "</div>"
      ],
      "text/plain": [
       "              Algorithms  accuracy\n",
       "0           randomforest       1.0\n",
       "1          gradientboost       1.0\n",
       "2      decisionregressor       1.0\n",
       "3          mlpregression       1.0\n",
       "4  supportvectoregressor       1.0\n",
       "5    kneighborsregressor       1.0"
      ]
     },
     "execution_count": 38,
     "metadata": {},
     "output_type": "execute_result"
    }
   ],
   "source": [
    "compare_models = pd.DataFrame({ \"Algorithms\": algorithm_names, \"accuracy\": accuracies})\n",
    "compare_models.sort_values(by = \"accuracy\", ascending = False)"
   ]
  },
  {
   "cell_type": "code",
   "execution_count": 39,
   "metadata": {},
   "outputs": [
    {
     "data": {
      "image/png": "[encoded data removed]",
      "text/plain": [
       "<Figure size 800x800 with 1 Axes>"
      ]
     },
     "metadata": {},
     "output_type": "display_data"
    }
   ],
   "source": [
    "%matplotlib inline\n",
    "plt.figure(figsize=(8,8))\n",
    "sns.barplot(x = \"accuracy\", y = \"Algorithms\", data = compare_models)\n",
    "plt.show()"
   ]
  }
 ],
 "metadata": {
  "interpreter": {
   "hash": "aee8b7b246df8f9039afb4144a1f6fd8d2ca17a180786b69acc140d282b71a49"
  },
  "kernelspec": {
   "display_name": "Python 3.10.2 64-bit",
   "language": "python",
   "name": "python3"
  },
  "language_info": {
   "codemirror_mode": {
    "name": "ipython",
    "version": 3
   },
   "file_extension": ".py",
   "mimetype": "text/x-python",
   "name": "python",
   "nbconvert_exporter": "python",
   "pygments_lexer": "ipython3",
   "version": "3.11.3"
  },
  "orig_nbformat": 4
 },
 "nbformat": 4,
 "nbformat_minor": 2
}
