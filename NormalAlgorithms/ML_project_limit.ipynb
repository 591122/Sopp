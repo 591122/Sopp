{
 "cells": [
  {
   "cell_type": "markdown",
   "metadata": {},
   "source": [
    "# ML Project"
   ]
  },
  {
   "cell_type": "code",
   "execution_count": 1,
   "metadata": {},
   "outputs": [],
   "source": [
    "import pandas as pd\n",
    "import numpy as np\n",
    "import seaborn as sns\n",
    "import matplotlib.pyplot as plt\n",
    "import torch\n",
    "import torch.nn as nn\n",
    "import torch.optim as optim\n",
    "from torch.utils.data import Dataset, DataLoader, TensorDataset\n",
    "from sklearn.model_selection import train_test_split, cross_val_score\n",
    "from sklearn.preprocessing import StandardScaler\n",
    "from sklearn.metrics import confusion_matrix\n",
    "from sklearn.dummy import DummyClassifier\n",
    "import random\n",
    "import metoder\n",
    "import pandas as pd\n",
    "\n",
    "\n"
   ]
  },
  {
   "cell_type": "markdown",
   "metadata": {},
   "source": [
    "Importing dataset:"
   ]
  },
  {
   "cell_type": "code",
   "execution_count": 2,
   "metadata": {},
   "outputs": [
    {
     "name": "stdout",
     "output_type": "stream",
     "text": [
      "object\n",
      "<class 'pandas.core.frame.DataFrame'>\n",
      "RangeIndex: 300 entries, 0 to 299\n",
      "Data columns (total 7 columns):\n",
      " #   Column          Non-Null Count  Dtype \n",
      "---  ------          --------------  ----- \n",
      " 0   class           300 non-null    object\n",
      " 1   capShape        300 non-null    object\n",
      " 2   capSurface      300 non-null    object\n",
      " 3   capColor        300 non-null    object\n",
      " 4   gillAttachment  300 non-null    object\n",
      " 5   gillSpacing     300 non-null    object\n",
      " 6   gillSize        300 non-null    object\n",
      "dtypes: object(7)\n",
      "memory usage: 16.5+ KB\n"
     ]
    }
   ],
   "source": [
    "#path:\n",
    "#file_path = r\"C:\\Users\\vikto\\Documents\\Skole\\Datadrevne_systemer\\ML_Project\\glass_data-4_lev.csv\"\n",
    "file_path = \"Dataset/modified_data.csv\"\n",
    "#importing file and print how the structure of data were inported. \n",
    "df = pd.read_csv(file_path)\n",
    "df.drop(columns=['odor'], inplace=True)\n",
    "df.drop(columns=['bruises'], inplace=True)\n",
    "\n",
    "# Define a mapping dictionary\n",
    "#type_mapping = {'T1': 0, 'T2': 1, 'T3': 2, 'T4': 3, 'T5': 4, 'T6': 5}\n",
    "\n",
    "# Apply the mapping to the 'Type' column\n",
    "#df['Type'] = df['Type'].map(type_mapping)\n",
    "\n",
    "#drop ID number\n",
    "#df = df.drop(columns=['Id'])\n",
    "\n",
    "# Verify the 'Type' column is now of type int64\n",
    "print(df['class'].dtype)\n",
    "df.info()"
   ]
  },
  {
   "cell_type": "markdown",
   "metadata": {},
   "source": [
    "### Small exploration of data:"
   ]
  },
  {
   "cell_type": "markdown",
   "metadata": {},
   "source": [
    "The data set clearly shows that T1, T2 is most frequently. "
   ]
  },
  {
   "cell_type": "code",
   "execution_count": 3,
   "metadata": {},
   "outputs": [
    {
     "data": {
      "image/png": "[encoded data removed]",
      "text/plain": [
       "<Figure size 432x288 with 1 Axes>"
      ]
     },
     "metadata": {
      "needs_background": "light"
     },
     "output_type": "display_data"
    }
   ],
   "source": [
    "# Create a histogram of age with hue for income\n",
    "sns.histplot(data=df, x='capShape', hue='class', multiple='stack', palette='pastel')\n",
    "\n",
    "# Add labels and title\n",
    "plt.xlabel('cap shape')\n",
    "plt.ylabel('Frequency')\n",
    "plt.title('cap shape Distribution by class')\n",
    "\n",
    "# Show the plot\n",
    "plt.show()"
   ]
  },
  {
   "cell_type": "code",
   "execution_count": 4,
   "metadata": {},
   "outputs": [],
   "source": [
    "#for col in df.columns[:-1]:  # Exclude the 'Type' column\n",
    " #   sns.boxplot(x='Type', y=col, data=df)\n",
    "  #  plt.show()"
   ]
  },
  {
   "cell_type": "markdown",
   "metadata": {},
   "source": [
    "One-hot encoding to ensure the best result"
   ]
  },
  {
   "cell_type": "code",
   "execution_count": 6,
   "metadata": {},
   "outputs": [
    {
     "name": "stdout",
     "output_type": "stream",
     "text": [
      "     class  capShape_b  capShape_f  capShape_k  capShape_s  capShape_x  \\\n",
      "0        0           0           1           0           0           0   \n",
      "1        1           0           0           0           0           1   \n",
      "2        0           0           0           0           0           1   \n",
      "3        0           1           0           0           0           0   \n",
      "4        0           0           1           0           0           0   \n",
      "..     ...         ...         ...         ...         ...         ...   \n",
      "295      0           0           0           0           0           1   \n",
      "296      0           0           0           0           0           1   \n",
      "297      1           0           0           0           0           1   \n",
      "298      1           0           0           0           0           1   \n",
      "299      0           0           0           0           0           1   \n",
      "\n",
      "     capSurface_f  capSurface_s  capSurface_y  capColor_b  ...  capColor_p  \\\n",
      "0               0             0             1           0  ...           0   \n",
      "1               0             1             0           0  ...           0   \n",
      "2               0             0             1           0  ...           0   \n",
      "3               0             1             0           0  ...           0   \n",
      "4               1             0             0           0  ...           0   \n",
      "..            ...           ...           ...         ...  ...         ...   \n",
      "295             0             1             0           0  ...           0   \n",
      "296             0             0             1           0  ...           0   \n",
      "297             0             1             0           0  ...           0   \n",
      "298             1             0             0           0  ...           0   \n",
      "299             0             1             0           0  ...           0   \n",
      "\n",
      "     capColor_u  capColor_w  capColor_y  gillAttachment_a  gillAttachment_f  \\\n",
      "0             0           0           0                 0                 1   \n",
      "1             0           0           0                 0                 1   \n",
      "2             0           0           0                 0                 1   \n",
      "3             0           1           0                 0                 1   \n",
      "4             0           0           0                 0                 1   \n",
      "..          ...         ...         ...               ...               ...   \n",
      "295           0           0           1                 0                 1   \n",
      "296           0           0           0                 0                 1   \n",
      "297           0           1           0                 0                 1   \n",
      "298           0           0           1                 0                 1   \n",
      "299           0           0           1                 0                 1   \n",
      "\n",
      "     gillSpacing_c  gillSpacing_w  gillSize_b  gillSize_n  \n",
      "0                1              0           1           0  \n",
      "1                1              0           0           1  \n",
      "2                1              0           1           0  \n",
      "3                1              0           1           0  \n",
      "4                1              0           0           1  \n",
      "..             ...            ...         ...         ...  \n",
      "295              1              0           1           0  \n",
      "296              1              0           1           0  \n",
      "297              1              0           1           0  \n",
      "298              1              0           1           0  \n",
      "299              1              0           1           0  \n",
      "\n",
      "[300 rows x 24 columns]\n"
     ]
    }
   ],
   "source": [
    "import pandas as pd\n",
    "\n",
    "# Perform one-hot encoding for all categorical columns except the \"class\" column\n",
    "df_encoded = pd.get_dummies(df, columns=[\"capShape\", \"capSurface\", \"capColor\", \"gillAttachment\", \"gillSpacing\", \"gillSize\"])\n",
    "\n",
    "# You can also encode the target variable \"class\" if needed\n",
    "# class_encoded = pd.get_dummies(df[\"class\"], prefix=\"class\")\n",
    "\n",
    "# Replace \"p\" with 1 and \"e\" with 0 in the \"class\" column in the df_encoded DataFrame\n",
    "df_encoded['class'] = df_encoded['class'].apply(lambda x: 1 if x == 'p' else 0)\n",
    "\n",
    "# Convert the \"class\" column to a numeric data type (int)\n",
    "#df_encoded['class'] = pd.to_numeric(df['class'])\n",
    "\n",
    "# Print the resulting DataFrame\n",
    "print(df_encoded)\n"
   ]
  },
  {
   "cell_type": "markdown",
   "metadata": {},
   "source": [
    "### Make a neural network:"
   ]
  },
  {
   "cell_type": "markdown",
   "metadata": {},
   "source": [
    "Split data to training and validation and Scale the data: "
   ]
  },
  {
   "cell_type": "code",
   "execution_count": 7,
   "metadata": {},
   "outputs": [
    {
     "name": "stdout",
     "output_type": "stream",
     "text": [
      "<class 'numpy.float64'>\n"
     ]
    }
   ],
   "source": [
    "# Prepare the Data for training:\n",
    "X = df_encoded.drop(columns=['class']).values  # Features (excluding 'Type' column)\n",
    "y = df_encoded['class'].values  # Labels\n",
    "\n",
    "# Split Data into Training and Validation Sets\n",
    "X_train, X_val, y_train, y_val = train_test_split(X, y, test_size=0.2, random_state=42)\n",
    "\n",
    "# Standardize the Data\n",
    "scaler = StandardScaler()\n",
    "X_train = scaler.fit_transform(X_train)\n",
    "X_val = scaler.transform(X_val)\n",
    "print(type(X_train[0][0]))"
   ]
  },
  {
   "cell_type": "markdown",
   "metadata": {},
   "source": [
    "Create pytorch model:"
   ]
  },
  {
   "cell_type": "code",
   "execution_count": null,
   "metadata": {},
   "outputs": [],
   "source": [
    "\n",
    "# Convert numpy arrays to PyTorch tensors\n",
    "X_train = torch.tensor(X_train, dtype=torch.float32)\n",
    "y_train = torch.tensor(y_train, dtype=torch.long)\n",
    "X_val = torch.tensor(X_val, dtype=torch.float32)\n",
    "y_val = torch.tensor(y_val, dtype=torch.long)\n",
    "\n",
    "# Create DataLoader for training and validation sets\n",
    "train_dataset = TensorDataset(X_train, y_train)\n",
    "train_loader = DataLoader(train_dataset, batch_size=7, shuffle=True)\n",
    "val_dataset = TensorDataset(X_val, y_val)\n",
    "val_loader = DataLoader(val_dataset, batch_size=7)\n",
    "\n",
    "# Build the Neural Network\n",
    "class GlassClassifier(nn.Module):\n",
    "    def __init__(self):\n",
    "        super(GlassClassifier, self).__init__()\n",
    "        self.fc1 = nn.Linear(9, 64)\n",
    "        self.fc2 = nn.Linear(64, 90)\n",
    "        self.fc3 = nn.Linear(90, 64)\n",
    "        self.fc4 = nn.Linear(64, 6)  # 6 output units for 6 types\n",
    "        \n",
    "    def forward(self, x):\n",
    "        x = torch.relu(self.fc1(x))\n",
    "        x = torch.relu(self.fc2(x))\n",
    "        x = torch.relu(self.fc3(x))\n",
    "        x = self.fc4(x)\n",
    "        return x\n",
    "\n",
    "model = GlassClassifier()\n",
    "\n",
    "# Step 5: Define Loss Function and Optimizer\n",
    "criterion = nn.CrossEntropyLoss()\n",
    "optimizer = optim.Adam(model.parameters(), lr=0.01)\n",
    "\n",
    "# Step 6: Train the Model\n",
    "# Define a list to store training losses\n",
    "train_losses = []\n",
    "\n",
    "# Define the number of epochs\n",
    "num_epochs = 200\n",
    "\n",
    "# Train the model and track the training loss\n",
    "for epoch in range(num_epochs):\n",
    "    model.train()\n",
    "    total_loss = 0.0\n",
    "    \n",
    "    for inputs, labels in train_loader:\n",
    "        optimizer.zero_grad()\n",
    "        outputs = model(inputs)\n",
    "        loss = criterion(outputs, labels)\n",
    "        loss.backward()\n",
    "        optimizer.step()\n",
    "        total_loss += loss.item()\n",
    "    \n",
    "    # Calculate average loss for the epoch\n",
    "    avg_loss = total_loss / len(train_loader)\n",
    "    train_losses.append(avg_loss)\n",
    "\n",
    "# Plot the training loss\n",
    "plt.plot(range(1, num_epochs+1), train_losses, label='Training Loss')\n",
    "plt.xlabel('Epochs')\n",
    "plt.ylabel('Loss')\n",
    "plt.title('Training Loss over Epochs')\n",
    "plt.legend()\n",
    "plt.show()"
   ]
  },
  {
   "cell_type": "markdown",
   "metadata": {},
   "source": [
    "Evaluate model:"
   ]
  },
  {
   "cell_type": "code",
   "execution_count": null,
   "metadata": {},
   "outputs": [],
   "source": [
    "# Step 7: Evaluate the Model\n",
    "model.eval()\n",
    "all_preds = []\n",
    "all_labels = []\n",
    "\n",
    "with torch.no_grad():\n",
    "    for inputs, labels in val_loader:\n",
    "        outputs = model(inputs)\n",
    "        _, predicted = torch.max(outputs.data, 1)\n",
    "        all_preds.extend(predicted.numpy())\n",
    "        all_labels.extend(labels.numpy())\n",
    "\n",
    "# Generate the confusion matrix\n",
    "cm = confusion_matrix(all_labels, all_preds)\n",
    "\n",
    "# Plot the confusion matrix\n",
    "plt.figure(figsize=(8, 6))\n",
    "sns.heatmap(cm, annot=True, fmt='d', cmap='Blues', xticklabels=[f'T{i}' for i in range(1, 8)],\n",
    "            yticklabels=[f'T{i}' for i in range(1, 8)])\n",
    "plt.xlabel('Predicted')\n",
    "plt.ylabel('Actual')\n",
    "plt.title('Confusion Matrix')\n",
    "plt.show()\n",
    "\n",
    "correct = sum(pred == label for pred, label in zip(all_preds, all_labels))\n",
    "accuracy = correct / len(all_labels)\n",
    "#print()\n",
    "print(f'Validation Accuracy: {accuracy * 100:.2f}%')"
   ]
  },
  {
   "cell_type": "code",
   "execution_count": 8,
   "metadata": {},
   "outputs": [],
   "source": [
    "rf = metoder.randomforest(df_encoded)"
   ]
  },
  {
   "cell_type": "code",
   "execution_count": 9,
   "metadata": {},
   "outputs": [],
   "source": [
    "gb = metoder.gradientboost(df_encoded)"
   ]
  },
  {
   "cell_type": "code",
   "execution_count": 10,
   "metadata": {},
   "outputs": [],
   "source": [
    "lr = metoder.linearregression(df_encoded)"
   ]
  },
  {
   "cell_type": "code",
   "execution_count": 11,
   "metadata": {},
   "outputs": [],
   "source": [
    "dr = metoder.decisionregressor(df_encoded)"
   ]
  },
  {
   "cell_type": "code",
   "execution_count": 12,
   "metadata": {},
   "outputs": [],
   "source": [
    "mlp = metoder.mlpregression(df_encoded)"
   ]
  },
  {
   "cell_type": "code",
   "execution_count": 13,
   "metadata": {},
   "outputs": [],
   "source": [
    "svr = metoder.supportvectoregressor(df_encoded)"
   ]
  },
  {
   "cell_type": "code",
   "execution_count": 14,
   "metadata": {},
   "outputs": [],
   "source": [
    "KNN = metoder.kneighborsregressor(df_encoded)"
   ]
  },
  {
   "cell_type": "code",
   "execution_count": 15,
   "metadata": {},
   "outputs": [
    {
     "data": {
      "text/html": [
       "<div>\n",
       "<style scoped>\n",
       "    .dataframe tbody tr th:only-of-type {\n",
       "        vertical-align: middle;\n",
       "    }\n",
       "\n",
       "    .dataframe tbody tr th {\n",
       "        vertical-align: top;\n",
       "    }\n",
       "\n",
       "    .dataframe thead th {\n",
       "        text-align: right;\n",
       "    }\n",
       "</style>\n",
       "<table border=\"1\" class=\"dataframe\">\n",
       "  <thead>\n",
       "    <tr style=\"text-align: right;\">\n",
       "      <th></th>\n",
       "      <th>Algorithms</th>\n",
       "      <th>Tests Score</th>\n",
       "    </tr>\n",
       "  </thead>\n",
       "  <tbody>\n",
       "    <tr>\n",
       "      <th>3</th>\n",
       "      <td>Random Forest Regressor</td>\n",
       "      <td>0.866667</td>\n",
       "    </tr>\n",
       "    <tr>\n",
       "      <th>4</th>\n",
       "      <td>Gradient Boosting Regressor</td>\n",
       "      <td>0.850000</td>\n",
       "    </tr>\n",
       "    <tr>\n",
       "      <th>2</th>\n",
       "      <td>Decision Tree Regressor</td>\n",
       "      <td>0.789407</td>\n",
       "    </tr>\n",
       "    <tr>\n",
       "      <th>6</th>\n",
       "      <td>MLP Regressor</td>\n",
       "      <td>0.773683</td>\n",
       "    </tr>\n",
       "    <tr>\n",
       "      <th>5</th>\n",
       "      <td>Support Vector Regressor</td>\n",
       "      <td>0.687181</td>\n",
       "    </tr>\n",
       "    <tr>\n",
       "      <th>0</th>\n",
       "      <td>KNN Regressor</td>\n",
       "      <td>0.667740</td>\n",
       "    </tr>\n",
       "    <tr>\n",
       "      <th>1</th>\n",
       "      <td>Linear Regression</td>\n",
       "      <td>0.554474</td>\n",
       "    </tr>\n",
       "  </tbody>\n",
       "</table>\n",
       "</div>"
      ],
      "text/plain": [
       "                    Algorithms  Tests Score\n",
       "3      Random Forest Regressor     0.866667\n",
       "4  Gradient Boosting Regressor     0.850000\n",
       "2      Decision Tree Regressor     0.789407\n",
       "6                MLP Regressor     0.773683\n",
       "5     Support Vector Regressor     0.687181\n",
       "0                KNN Regressor     0.667740\n",
       "1            Linear Regression     0.554474"
      ]
     },
     "execution_count": 15,
     "metadata": {},
     "output_type": "execute_result"
    }
   ],
   "source": [
    "models = ['KNN Regressor', 'Linear Regression', 'Decision Tree Regressor' ,'Random Forest Regressor',\n",
    " 'Gradient Boosting Regressor','Support Vector Regressor', 'MLP Regressor']\n",
    "tests_score = [KNN, lr, dr, rf, gb, svr, mlp]\n",
    "compare_models = pd.DataFrame({ \"Algorithms\": models, \"Tests Score\": tests_score })\n",
    "compare_models.sort_values(by = \"Tests Score\", ascending = False)"
   ]
  },
  {
   "cell_type": "code",
   "execution_count": 16,
   "metadata": {},
   "outputs": [
    {
     "data": {
      "image/png": "[encoded data removed]",
      "text/plain": [
       "<Figure size 576x576 with 1 Axes>"
      ]
     },
     "metadata": {
      "needs_background": "light"
     },
     "output_type": "display_data"
    }
   ],
   "source": [
    "%matplotlib inline\n",
    "plt.figure(figsize=(8,8))\n",
    "sns.barplot(x = \"Tests Score\", y = \"Algorithms\", data = compare_models)\n",
    "plt.show()"
   ]
  }
 ],
 "metadata": {
  "interpreter": {
   "hash": "aee8b7b246df8f9039afb4144a1f6fd8d2ca17a180786b69acc140d282b71a49"
  },
  "kernelspec": {
   "display_name": "Python 3.10.2 64-bit",
   "language": "python",
   "name": "python3"
  },
  "language_info": {
   "codemirror_mode": {
    "name": "ipython",
    "version": 3
   },
   "file_extension": ".py",
   "mimetype": "text/x-python",
   "name": "python",
   "nbconvert_exporter": "python",
   "pygments_lexer": "ipython3",
   "version": "3.10.2"
  },
  "orig_nbformat": 4
 },
 "nbformat": 4,
 "nbformat_minor": 2
}
